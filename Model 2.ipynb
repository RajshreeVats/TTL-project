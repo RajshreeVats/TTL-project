{
 "cells": [
  {
   "cell_type": "code",
   "execution_count": 1,
   "id": "51b634d4",
   "metadata": {},
   "outputs": [],
   "source": [
    "# Most basic stuff for EDA.\n",
    "import pandas as pd\n",
    "import numpy as np\n",
    "import matplotlib.pyplot as plt\n",
    "import seaborn as sns"
   ]
  },
  {
   "cell_type": "code",
   "execution_count": 2,
   "id": "dcc641f6",
   "metadata": {},
   "outputs": [
    {
     "name": "stderr",
     "output_type": "stream",
     "text": [
      "[nltk_data] Downloading package stopwords to\n",
      "[nltk_data]     C:\\Users\\KIIT\\AppData\\Roaming\\nltk_data...\n",
      "[nltk_data]   Package stopwords is already up-to-date!\n",
      "[nltk_data] Downloading package punkt to\n",
      "[nltk_data]     C:\\Users\\KIIT\\AppData\\Roaming\\nltk_data...\n",
      "[nltk_data]   Package punkt is already up-to-date!\n",
      "[nltk_data] Downloading package averaged_perceptron_tagger to\n",
      "[nltk_data]     C:\\Users\\KIIT\\AppData\\Roaming\\nltk_data...\n",
      "[nltk_data]   Package averaged_perceptron_tagger is already up-to-\n",
      "[nltk_data]       date!\n"
     ]
    }
   ],
   "source": [
    "# Core packages for text processing.\n",
    "import string\n",
    "import re\n",
    "\n",
    "# Libraries for text preprocessing.\n",
    "import nltk\n",
    "nltk.download('stopwords')\n",
    "nltk.download('punkt')\n",
    "nltk.download('averaged_perceptron_tagger')\n",
    "from nltk.corpus import stopwords"
   ]
  },
  {
   "cell_type": "code",
   "execution_count": 3,
   "id": "5035e57b",
   "metadata": {},
   "outputs": [],
   "source": [
    "# Loading some sklearn packaces for modelling.\n",
    "from sklearn.preprocessing import LabelEncoder\n",
    "from sklearn.decomposition import LatentDirichletAllocation, NMF # not actively using\n",
    "from sklearn.metrics import confusion_matrix, classification_report, accuracy_score, precision_score, recall_score, f1_score\n",
    "from sklearn.model_selection import train_test_split\n",
    "\n",
    "# Utility\n",
    "import logging\n",
    "import itertools"
   ]
  },
  {
   "cell_type": "code",
   "execution_count": 4,
   "id": "2b8c50d2",
   "metadata": {},
   "outputs": [],
   "source": [
    "# Core packages for general use throughout the notebook.\n",
    "import random\n",
    "import warnings\n",
    "import time\n",
    "import datetime\n",
    "\n",
    "# For customizing our plots.\n",
    "from matplotlib.ticker import MaxNLocator\n",
    "import matplotlib.gridspec as gridspec\n",
    "import matplotlib.patches as mpatches"
   ]
  },
  {
   "cell_type": "code",
   "execution_count": 5,
   "id": "7c59c683",
   "metadata": {},
   "outputs": [],
   "source": [
    "# for build our model\n",
    "import tensorflow as tf\n",
    "from tensorflow.keras.layers import Embedding, LSTM, Dense, Bidirectional\n",
    "from tensorflow.keras.layers.experimental.preprocessing import TextVectorization\n",
    "from tensorflow.keras.models import Sequential\n",
    "from tensorflow.keras.optimizers import Adam\n",
    "from transformers import BertTokenizer, TFBertModel\n",
    "\n",
    "# Setting some options for general use.\n",
    "import os\n",
    "stop = set(stopwords.words('english'))\n",
    "plt.style.use('fivethirtyeight')\n",
    "sns.set(font_scale=1.5)\n",
    "pd.options.display.max_columns = 250\n",
    "pd.options.display.max_rows = 250\n",
    "warnings.filterwarnings('ignore')"
   ]
  },
  {
   "cell_type": "code",
   "execution_count": 6,
   "id": "2bd7b463",
   "metadata": {},
   "outputs": [
    {
     "data": {
      "text/html": [
       "<div>\n",
       "<style scoped>\n",
       "    .dataframe tbody tr th:only-of-type {\n",
       "        vertical-align: middle;\n",
       "    }\n",
       "\n",
       "    .dataframe tbody tr th {\n",
       "        vertical-align: top;\n",
       "    }\n",
       "\n",
       "    .dataframe thead th {\n",
       "        text-align: right;\n",
       "    }\n",
       "</style>\n",
       "<table border=\"1\" class=\"dataframe\">\n",
       "  <thead>\n",
       "    <tr style=\"text-align: right;\">\n",
       "      <th></th>\n",
       "      <th>Review</th>\n",
       "      <th>neg</th>\n",
       "      <th>neu</th>\n",
       "      <th>pos</th>\n",
       "      <th>compound</th>\n",
       "      <th>Labels</th>\n",
       "    </tr>\n",
       "  </thead>\n",
       "  <tbody>\n",
       "    <tr>\n",
       "      <th>0</th>\n",
       "      <td>Unfortunately, the frustration of being Dr. Go...</td>\n",
       "      <td>0.124</td>\n",
       "      <td>0.852</td>\n",
       "      <td>0.024</td>\n",
       "      <td>-0.8997</td>\n",
       "      <td>1</td>\n",
       "    </tr>\n",
       "    <tr>\n",
       "      <th>1</th>\n",
       "      <td>Been going to Dr. Goldberg for over 10 years. ...</td>\n",
       "      <td>0.000</td>\n",
       "      <td>0.957</td>\n",
       "      <td>0.043</td>\n",
       "      <td>0.6249</td>\n",
       "      <td>4</td>\n",
       "    </tr>\n",
       "    <tr>\n",
       "      <th>2</th>\n",
       "      <td>I don't know what Dr. Goldberg was like before...</td>\n",
       "      <td>0.141</td>\n",
       "      <td>0.770</td>\n",
       "      <td>0.090</td>\n",
       "      <td>-0.9439</td>\n",
       "      <td>1</td>\n",
       "    </tr>\n",
       "    <tr>\n",
       "      <th>3</th>\n",
       "      <td>I'm writing this review to give you a heads up...</td>\n",
       "      <td>0.045</td>\n",
       "      <td>0.865</td>\n",
       "      <td>0.089</td>\n",
       "      <td>0.6678</td>\n",
       "      <td>4</td>\n",
       "    </tr>\n",
       "    <tr>\n",
       "      <th>4</th>\n",
       "      <td>All the food is great here. But the best thing...</td>\n",
       "      <td>0.000</td>\n",
       "      <td>0.512</td>\n",
       "      <td>0.488</td>\n",
       "      <td>0.9958</td>\n",
       "      <td>5</td>\n",
       "    </tr>\n",
       "  </tbody>\n",
       "</table>\n",
       "</div>"
      ],
      "text/plain": [
       "                                              Review    neg    neu    pos  \\\n",
       "0  Unfortunately, the frustration of being Dr. Go...  0.124  0.852  0.024   \n",
       "1  Been going to Dr. Goldberg for over 10 years. ...  0.000  0.957  0.043   \n",
       "2  I don't know what Dr. Goldberg was like before...  0.141  0.770  0.090   \n",
       "3  I'm writing this review to give you a heads up...  0.045  0.865  0.089   \n",
       "4  All the food is great here. But the best thing...  0.000  0.512  0.488   \n",
       "\n",
       "   compound  Labels  \n",
       "0   -0.8997       1  \n",
       "1    0.6249       4  \n",
       "2   -0.9439       1  \n",
       "3    0.6678       4  \n",
       "4    0.9958       5  "
      ]
     },
     "execution_count": 6,
     "metadata": {},
     "output_type": "execute_result"
    }
   ],
   "source": [
    "df = pd.read_csv('updated_dataset.csv')\n",
    "df.head()"
   ]
  },
  {
   "cell_type": "code",
   "execution_count": 7,
   "id": "8b0638df",
   "metadata": {},
   "outputs": [],
   "source": [
    "#map target label to string"
   ]
  },
  {
   "cell_type": "code",
   "execution_count": 8,
   "id": "c14202ef",
   "metadata": {},
   "outputs": [],
   "source": [
    "decode_map = {1: \"ANGRY\", 2: \"NEGATIVE\", 3: \"NEUTRAL\", 4: \"POSITIVE\", 5: \"GREAT\"}\n",
    "def decode_sentiment(Labels):\n",
    "    return decode_map[int(Labels)]"
   ]
  },
  {
   "cell_type": "code",
   "execution_count": 9,
   "id": "59c395e6",
   "metadata": {},
   "outputs": [
    {
     "name": "stdout",
     "output_type": "stream",
     "text": [
      "CPU times: total: 219 ms\n",
      "Wall time: 221 ms\n"
     ]
    }
   ],
   "source": [
    "%%time\n",
    "df.Labels = df.Labels.apply(lambda x: decode_sentiment(x))"
   ]
  },
  {
   "cell_type": "markdown",
   "id": "b0cfa4a6",
   "metadata": {},
   "source": [
    "# cleaning Text"
   ]
  },
  {
   "cell_type": "code",
   "execution_count": 10,
   "id": "29a152c2",
   "metadata": {},
   "outputs": [],
   "source": [
    "def remove_stopwords(text):\n",
    "    tokens = []\n",
    "    for token in text.split():\n",
    "        if token not in stop:\n",
    "            tokens.append(token)\n",
    "    return \" \".join(tokens)\n",
    "\n",
    "\n",
    "def remove_URL(text):\n",
    "    url = re.compile(r'https?://\\S+|www\\.\\S+')\n",
    "    return url.sub(r'', text)\n",
    "\n",
    "def remove_html(text):\n",
    "    html = re.compile(r'<.*?>|&([a-z0-9]+|#[0-9]{1,6}|#x[0-9a-f]{1,6});')\n",
    "    return re.sub(html, '', text)\n",
    "\n",
    "\n",
    "def remove_punct(text):\n",
    "    table = str.maketrans('', '', string.punctuation)\n",
    "    return text.translate(table)\n",
    "\n",
    "# Applying helper functions\n",
    "df['text_clean'] = df['Review'].apply(lambda x: remove_stopwords(x))\n",
    "df['text_clean'] = df['text_clean'].apply(lambda x: remove_URL(x))\n",
    "df['text_clean'] = df['text_clean'].apply(lambda x: remove_html(x))\n",
    "df['text_clean'] = df['text_clean'].apply(lambda x: remove_punct(x))\n"
   ]
  },
  {
   "cell_type": "code",
   "execution_count": 11,
   "id": "6332c460",
   "metadata": {},
   "outputs": [
    {
     "data": {
      "text/html": [
       "<div>\n",
       "<style scoped>\n",
       "    .dataframe tbody tr th:only-of-type {\n",
       "        vertical-align: middle;\n",
       "    }\n",
       "\n",
       "    .dataframe tbody tr th {\n",
       "        vertical-align: top;\n",
       "    }\n",
       "\n",
       "    .dataframe thead th {\n",
       "        text-align: right;\n",
       "    }\n",
       "</style>\n",
       "<table border=\"1\" class=\"dataframe\">\n",
       "  <thead>\n",
       "    <tr style=\"text-align: right;\">\n",
       "      <th></th>\n",
       "      <th>Review</th>\n",
       "      <th>neg</th>\n",
       "      <th>neu</th>\n",
       "      <th>pos</th>\n",
       "      <th>compound</th>\n",
       "      <th>Labels</th>\n",
       "      <th>text_clean</th>\n",
       "    </tr>\n",
       "  </thead>\n",
       "  <tbody>\n",
       "    <tr>\n",
       "      <th>0</th>\n",
       "      <td>Unfortunately, the frustration of being Dr. Go...</td>\n",
       "      <td>0.124</td>\n",
       "      <td>0.852</td>\n",
       "      <td>0.024</td>\n",
       "      <td>-0.8997</td>\n",
       "      <td>ANGRY</td>\n",
       "      <td>Unfortunately frustration Dr Goldbergs patient...</td>\n",
       "    </tr>\n",
       "    <tr>\n",
       "      <th>1</th>\n",
       "      <td>Been going to Dr. Goldberg for over 10 years. ...</td>\n",
       "      <td>0.000</td>\n",
       "      <td>0.957</td>\n",
       "      <td>0.043</td>\n",
       "      <td>0.6249</td>\n",
       "      <td>POSITIVE</td>\n",
       "      <td>Been going Dr Goldberg 10 years I think I one ...</td>\n",
       "    </tr>\n",
       "    <tr>\n",
       "      <th>2</th>\n",
       "      <td>I don't know what Dr. Goldberg was like before...</td>\n",
       "      <td>0.141</td>\n",
       "      <td>0.770</td>\n",
       "      <td>0.090</td>\n",
       "      <td>-0.9439</td>\n",
       "      <td>ANGRY</td>\n",
       "      <td>I know Dr Goldberg like moving Arizona let tel...</td>\n",
       "    </tr>\n",
       "    <tr>\n",
       "      <th>3</th>\n",
       "      <td>I'm writing this review to give you a heads up...</td>\n",
       "      <td>0.045</td>\n",
       "      <td>0.865</td>\n",
       "      <td>0.089</td>\n",
       "      <td>0.6678</td>\n",
       "      <td>POSITIVE</td>\n",
       "      <td>Im writing review give heads see Doctor The of...</td>\n",
       "    </tr>\n",
       "    <tr>\n",
       "      <th>4</th>\n",
       "      <td>All the food is great here. But the best thing...</td>\n",
       "      <td>0.000</td>\n",
       "      <td>0.512</td>\n",
       "      <td>0.488</td>\n",
       "      <td>0.9958</td>\n",
       "      <td>GREAT</td>\n",
       "      <td>All food great here But best thing wings Their...</td>\n",
       "    </tr>\n",
       "  </tbody>\n",
       "</table>\n",
       "</div>"
      ],
      "text/plain": [
       "                                              Review    neg    neu    pos  \\\n",
       "0  Unfortunately, the frustration of being Dr. Go...  0.124  0.852  0.024   \n",
       "1  Been going to Dr. Goldberg for over 10 years. ...  0.000  0.957  0.043   \n",
       "2  I don't know what Dr. Goldberg was like before...  0.141  0.770  0.090   \n",
       "3  I'm writing this review to give you a heads up...  0.045  0.865  0.089   \n",
       "4  All the food is great here. But the best thing...  0.000  0.512  0.488   \n",
       "\n",
       "   compound    Labels                                         text_clean  \n",
       "0   -0.8997     ANGRY  Unfortunately frustration Dr Goldbergs patient...  \n",
       "1    0.6249  POSITIVE  Been going Dr Goldberg 10 years I think I one ...  \n",
       "2   -0.9439     ANGRY  I know Dr Goldberg like moving Arizona let tel...  \n",
       "3    0.6678  POSITIVE  Im writing review give heads see Doctor The of...  \n",
       "4    0.9958     GREAT  All food great here But best thing wings Their...  "
      ]
     },
     "execution_count": 11,
     "metadata": {},
     "output_type": "execute_result"
    }
   ],
   "source": [
    "df.head()\n"
   ]
  },
  {
   "cell_type": "markdown",
   "id": "fb7e313e",
   "metadata": {},
   "source": [
    "# Setup environment to build model"
   ]
  },
  {
   "cell_type": "code",
   "execution_count": 12,
   "id": "76a258fe",
   "metadata": {},
   "outputs": [],
   "source": [
    "os.environ[\"WANDB_API_KEY\"] = \"0\" ## to silence warning"
   ]
  },
  {
   "cell_type": "code",
   "execution_count": 13,
   "id": "3fd55f49",
   "metadata": {},
   "outputs": [
    {
     "name": "stdout",
     "output_type": "stream",
     "text": [
      "Number of replicas: 1\n"
     ]
    }
   ],
   "source": [
    "try:\n",
    "    tpu = tf.distribute.cluster_resolver.TPUClusterResolver()\n",
    "    tf.config.experimental_connect_to_cluster(tpu)\n",
    "    tf.tpu.experimental.initialize_tpu_system(tpu)\n",
    "    strategy = tf.distribute.experimental.TPUStrategy(tpu)\n",
    "except ValueError:\n",
    "    strategy = tf.distribute.get_strategy() # for CPU and single GPU\n",
    "    print('Number of replicas:', strategy.num_replicas_in_sync)"
   ]
  },
  {
   "cell_type": "code",
   "execution_count": 14,
   "id": "53e8563c",
   "metadata": {},
   "outputs": [],
   "source": [
    "# hyperparameters\n",
    "max_length = 128\n",
    "batch_size = 128\n"
   ]
  },
  {
   "cell_type": "code",
   "execution_count": 15,
   "id": "09399daa",
   "metadata": {},
   "outputs": [],
   "source": [
    "# Bert Tokenizer\n",
    "model_name = \"bert-base-uncased\"\n",
    "tokenizer = BertTokenizer.from_pretrained(model_name)"
   ]
  },
  {
   "cell_type": "markdown",
   "id": "d68f8826",
   "metadata": {},
   "source": [
    "# splitting the data"
   ]
  },
  {
   "cell_type": "code",
   "execution_count": 16,
   "id": "27c9322a",
   "metadata": {},
   "outputs": [],
   "source": [
    "train_df, test = train_test_split(df, test_size=0.01, random_state=42) \n",
    "x_train, dev = train_test_split(train_df, test_size=0.01, random_state=42)"
   ]
  },
  {
   "cell_type": "code",
   "execution_count": 17,
   "id": "9fcee94e",
   "metadata": {},
   "outputs": [],
   "source": [
    "train = x_train[:5000]"
   ]
  },
  {
   "cell_type": "code",
   "execution_count": 18,
   "id": "bdb212bf",
   "metadata": {},
   "outputs": [
    {
     "data": {
      "text/plain": [
       "['GREAT', 'ANGRY', 'POSITIVE', 'NEUTRAL', 'NEGATIVE']"
      ]
     },
     "execution_count": 18,
     "metadata": {},
     "output_type": "execute_result"
    }
   ],
   "source": [
    "labels = train.Labels.unique().tolist()\n",
    "labels"
   ]
  },
  {
   "cell_type": "code",
   "execution_count": 19,
   "id": "b00be2a3",
   "metadata": {},
   "outputs": [
    {
     "name": "stdout",
     "output_type": "stream",
     "text": [
      "y_train (5000, 1)\n",
      "y_test (5600, 1)\n"
     ]
    }
   ],
   "source": [
    "encoder = LabelEncoder()\n",
    "encoder.fit(train.Labels.tolist())\n",
    "\n",
    "y_train = encoder.transform(train.Labels.tolist())\n",
    "y_test = encoder.transform(test.Labels.tolist())\n",
    "y_dev = encoder.transform(dev.Labels.tolist())\n",
    "\n",
    "y_train = y_train.reshape(-1,1)\n",
    "y_test = y_test.reshape(-1,1)\n",
    "y_dev = y_dev.reshape(-1,1)\n",
    "\n",
    "print(\"y_train\",y_train.shape)\n",
    "print(\"y_test\",y_test.shape)"
   ]
  },
  {
   "cell_type": "code",
   "execution_count": 20,
   "id": "b42dd165",
   "metadata": {},
   "outputs": [],
   "source": [
    "#takes a list of strings as input and tokenizes into sequence of integer ID\n",
    "def bert_encode(data):\n",
    "    tokens = tokenizer.batch_encode_plus(data, max_length=max_length, padding='max_length', truncation=True) \n",
    "    \n",
    "    return tf.constant(tokens['input_ids'])"
   ]
  },
  {
   "cell_type": "code",
   "execution_count": 21,
   "id": "a5c49e6b",
   "metadata": {},
   "outputs": [],
   "source": [
    "train_encoded = bert_encode(train.text_clean)\n",
    "dev_encoded = bert_encode(dev.text_clean)\n",
    "\n",
    "\n",
    "train_dataset = (\n",
    "    tf.data.Dataset\n",
    "    .from_tensor_slices((train_encoded, y_train))\n",
    "    .shuffle(128)\n",
    "    .batch(batch_size)\n",
    ")\n",
    "\n",
    "dev_dataset = (\n",
    "    tf.data.Dataset\n",
    "    .from_tensor_slices((dev_encoded, y_dev))\n",
    "    .shuffle(128)\n",
    "    .batch(batch_size)\n",
    ")"
   ]
  },
  {
   "cell_type": "markdown",
   "id": "29d93ace",
   "metadata": {},
   "source": [
    "# MODEL"
   ]
  },
  {
   "cell_type": "code",
   "execution_count": 22,
   "id": "317ca51a",
   "metadata": {},
   "outputs": [],
   "source": [
    "def bert_model():\n",
    "\n",
    "    bert_encoder = TFBertModel.from_pretrained(model_name)\n",
    "    input_word_ids = tf.keras.Input(shape=(max_length,), dtype=tf.int32, name=\"input_ids\")\n",
    "    last_hidden_states = bert_encoder(input_word_ids)[0]   \n",
    "    x = tf.keras.layers.SpatialDropout1D(0.2)(last_hidden_states)\n",
    "    x = tf.keras.layers.Conv1D(64, 3, activation='relu')(x)\n",
    "    x = tf.keras.layers.Bidirectional(LSTM(64, dropout=0.2, recurrent_dropout=0.2))(x)\n",
    "    x = tf.keras.layers.Dense(128, activation='relu')(x)\n",
    "    x = tf.keras.layers.Dropout(0.2)(x)\n",
    "    x = tf.keras.layers.Dense(64, activation='relu')(x)\n",
    "    x = tf.keras.layers.Dropout(0.3)(x)\n",
    "    \n",
    "\n",
    "    \n",
    "    outputs = tf.keras.layers.Dense(5, activation='softmax')(x)\n",
    "    model = tf.keras.Model(input_word_ids, outputs)\n",
    "   \n",
    "    return model"
   ]
  },
  {
   "cell_type": "code",
   "execution_count": 23,
   "id": "7e970c7b",
   "metadata": {},
   "outputs": [
    {
     "name": "stderr",
     "output_type": "stream",
     "text": [
      "Some layers from the model checkpoint at bert-base-uncased were not used when initializing TFBertModel: ['mlm___cls', 'nsp___cls']\n",
      "- This IS expected if you are initializing TFBertModel from the checkpoint of a model trained on another task or with another architecture (e.g. initializing a BertForSequenceClassification model from a BertForPreTraining model).\n",
      "- This IS NOT expected if you are initializing TFBertModel from the checkpoint of a model that you expect to be exactly identical (initializing a BertForSequenceClassification model from a BertForSequenceClassification model).\n",
      "All the layers of TFBertModel were initialized from the model checkpoint at bert-base-uncased.\n",
      "If your task is similar to the task the model of the checkpoint was trained on, you can already use TFBertModel for predictions without further training.\n"
     ]
    },
    {
     "name": "stdout",
     "output_type": "stream",
     "text": [
      "Model: \"model\"\n",
      "_________________________________________________________________\n",
      " Layer (type)                Output Shape              Param #   \n",
      "=================================================================\n",
      " input_ids (InputLayer)      [(None, 128)]             0         \n",
      "                                                                 \n",
      " tf_bert_model (TFBertModel)  TFBaseModelOutputWithPoo  109482240\n",
      "                             lingAndCrossAttentions(l            \n",
      "                             ast_hidden_state=(None,             \n",
      "                             128, 768),                          \n",
      "                              pooler_output=(None, 76            \n",
      "                             8),                                 \n",
      "                              past_key_values=None, h            \n",
      "                             idden_states=None, atten            \n",
      "                             tions=None, cross_attent            \n",
      "                             ions=None)                          \n",
      "                                                                 \n",
      " spatial_dropout1d (SpatialD  (None, 128, 768)         0         \n",
      " ropout1D)                                                       \n",
      "                                                                 \n",
      " conv1d (Conv1D)             (None, 126, 64)           147520    \n",
      "                                                                 \n",
      " bidirectional (Bidirectiona  (None, 128)              66048     \n",
      " l)                                                              \n",
      "                                                                 \n",
      " dense (Dense)               (None, 128)               16512     \n",
      "                                                                 \n",
      " dropout_37 (Dropout)        (None, 128)               0         \n",
      "                                                                 \n",
      " dense_1 (Dense)             (None, 64)                8256      \n",
      "                                                                 \n",
      " dropout_38 (Dropout)        (None, 64)                0         \n",
      "                                                                 \n",
      " dense_2 (Dense)             (None, 5)                 325       \n",
      "                                                                 \n",
      "=================================================================\n",
      "Total params: 109,720,901\n",
      "Trainable params: 109,720,901\n",
      "Non-trainable params: 0\n",
      "_________________________________________________________________\n"
     ]
    }
   ],
   "source": [
    "with strategy.scope():\n",
    "    model = bert_model()\n",
    "    adam_optimizer = tf.keras.optimizers.Adam(learning_rate=1e-5)\n",
    "    model.compile(loss='sparse_categorical_crossentropy',optimizer=adam_optimizer,metrics=['accuracy'])\n",
    "\n",
    "    model.summary()"
   ]
  },
  {
   "cell_type": "code",
   "execution_count": 27,
   "id": "41a2e20d",
   "metadata": {},
   "outputs": [],
   "source": [
    "from tensorflow.keras.callbacks import ReduceLROnPlateau, EarlyStopping\n",
    "\n",
    "callbacks = [ ReduceLROnPlateau(monitor='val_loss', patience=5, cooldown=0),\n",
    "              EarlyStopping(monitor='val_accuracy', min_delta=1e-5, patience=5)]  \n",
    "#early stopping to stop the training process once the validation loss starts to increase, \n",
    "#indicating that the model is starting to overfit."
   ]
  },
  {
   "cell_type": "code",
   "execution_count": 30,
   "id": "da554e60",
   "metadata": {},
   "outputs": [],
   "source": [
    "# Start train\n",
    "#history = model.fit(\n",
    " #   train_dataset,\n",
    "  #  batch_size=batch_size,\n",
    "  #  epochs=6,\n",
    "   # validation_data=dev_dataset,\n",
    "    #verbose=1,\n",
    "    #callbacks = callbacks)"
   ]
  },
  {
   "cell_type": "code",
   "execution_count": null,
   "id": "8f1b7ab0",
   "metadata": {},
   "outputs": [],
   "source": [
    "# SAVE MODEL WEIGHTS\n",
    "#model.save_weights(f'sentiment_weights_v1.h5')"
   ]
  },
  {
   "cell_type": "code",
   "execution_count": null,
   "id": "12e84d79",
   "metadata": {},
   "outputs": [
    {
     "name": "stderr",
     "output_type": "stream",
     "text": [
      "WARNING:absl:Found untraced functions such as _jit_compiled_convolution_op, _update_step_xla, embeddings_layer_call_fn, embeddings_layer_call_and_return_conditional_losses, encoder_layer_call_fn while saving (showing 5 of 422). These functions will not be directly callable after loading.\n"
     ]
    },
    {
     "name": "stdout",
     "output_type": "stream",
     "text": [
      "INFO:tensorflow:Assets written to: sentiment_model_bert\\assets\n"
     ]
    },
    {
     "name": "stderr",
     "output_type": "stream",
     "text": [
      "INFO:tensorflow:Assets written to: sentiment_model_bert\\assets\n"
     ]
    }
   ],
   "source": [
    "model.save('sentiment_model_bert')"
   ]
  },
  {
   "cell_type": "code",
   "execution_count": 33,
   "id": "f0e57295",
   "metadata": {},
   "outputs": [],
   "source": [
    "#from tensorflow.keras.models import load_model\n",
    "#model = load_model('sentiment_model_bert')"
   ]
  },
  {
   "cell_type": "code",
   "execution_count": 34,
   "id": "4cd9f727",
   "metadata": {},
   "outputs": [],
   "source": [
    "# LOAD MODEL WEIGHTS\n",
    "model.load_weights('sentiment_weights_v1.h5')"
   ]
  },
  {
   "cell_type": "code",
   "execution_count": 35,
   "id": "1628db87",
   "metadata": {},
   "outputs": [
    {
     "data": {
      "text/plain": [
       "'\\ndef plot_graphs(sentiment_model_bert.history, string):\\n    plt.plot(history.history[string])\\n    plt.plot(history.history[\\'val_\\'+string])\\n    plt.xlabel(\"Epochs\")\\n    plt.ylabel(string)\\n    plt.legend([string, \\'val_\\'+string])\\n    plt.show()\\n   \\nplot_graphs(history, \"accuracy\")\\nplot_graphs(history, \"loss\")\\n'"
      ]
     },
     "execution_count": 35,
     "metadata": {},
     "output_type": "execute_result"
    }
   ],
   "source": [
    "'''\n",
    "def plot_graphs(sentiment_model_bert.history, string):\n",
    "    plt.plot(history.history[string])\n",
    "    plt.plot(history.history['val_'+string])\n",
    "    plt.xlabel(\"Epochs\")\n",
    "    plt.ylabel(string)\n",
    "    plt.legend([string, 'val_'+string])\n",
    "    plt.show()\n",
    "   \n",
    "plot_graphs(history, \"accuracy\")\n",
    "plot_graphs(history, \"loss\")\n",
    "'''"
   ]
  },
  {
   "cell_type": "code",
   "execution_count": 36,
   "id": "9e05a1f0",
   "metadata": {},
   "outputs": [],
   "source": [
    "# LOAD MODEL WEIGHTS\n",
    "model.load_weights('sentiment_weights_v1.h5')"
   ]
  },
  {
   "cell_type": "code",
   "execution_count": 37,
   "id": "703e62de",
   "metadata": {},
   "outputs": [],
   "source": [
    "def get_label(score):\n",
    "    if score < 0.2:\n",
    "        return \"ANGRY\"\n",
    "    elif 0.2 <= score < 0.4:\n",
    "        return \"NEGATIVE\"\n",
    "    elif 0.4 <= score < 0.6:\n",
    "        return \"NEUTRAL\"\n",
    "    elif 0.6 <= score < 0.8 :\n",
    "        return \"HAPPY\"\n",
    "    else:\n",
    "        return \"GREAT\"\n",
    "\n",
    "#def decode_sentiment(scores):\n",
    "    #label = np.argmax(scores)\n",
    "    #return get_label(label)"
   ]
  },
  {
   "cell_type": "code",
   "execution_count": null,
   "id": "6c3492a0",
   "metadata": {},
   "outputs": [],
   "source": []
  },
  {
   "cell_type": "code",
   "execution_count": 38,
   "id": "a50335aa",
   "metadata": {},
   "outputs": [],
   "source": [
    "def predict(text, include_neutral=True):\n",
    "    start_at = time.time()\n",
    "    # Tokenize text\n",
    "    x_encoded = bert_encode([text])\n",
    "    # Predict\n",
    "    score = model.predict([x_encoded])[0]\n",
    "    # Decode sentiment\n",
    "    label_index = np.argmax(score)\n",
    "    if include_neutral:\n",
    "        label = get_label(label_index)\n",
    "    else:\n",
    "        if label_index == 2: # Neutral label index is 2\n",
    "            label = None\n",
    "        else:\n",
    "            label = get_label(label_index)\n",
    "    \n",
    "    return {\"label\": label,\n",
    "            \"score\": score.tolist(),\n",
    "            \"elapsed_time\": time.time()-start_at}\n"
   ]
  },
  {
   "cell_type": "code",
   "execution_count": 39,
   "id": "2c5e110b",
   "metadata": {},
   "outputs": [],
   "source": [
    "def print_sentiment_label(score):\n",
    "    sentiment_label = decode_sentiment(score)\n",
    "    print(sentiment_label)"
   ]
  },
  {
   "cell_type": "code",
   "execution_count": 40,
   "id": "ad6a32a0",
   "metadata": {},
   "outputs": [
    {
     "name": "stdout",
     "output_type": "stream",
     "text": [
      "1/1 [==============================] - 5s 5s/step\n"
     ]
    },
    {
     "data": {
      "text/plain": [
       "{'label': 'ANGRY',\n",
       " 'score': [0.5851972699165344,\n",
       "  0.11982598900794983,\n",
       "  0.05445199832320213,\n",
       "  0.14637352526187897,\n",
       "  0.09415127336978912],\n",
       " 'elapsed_time': 4.979530096054077}"
      ]
     },
     "execution_count": 40,
     "metadata": {},
     "output_type": "execute_result"
    }
   ],
   "source": [
    "predict(\"I hate the economy\")"
   ]
  },
  {
   "cell_type": "code",
   "execution_count": 133,
   "id": "8bca996a",
   "metadata": {},
   "outputs": [
    {
     "name": "stdout",
     "output_type": "stream",
     "text": [
      "ANGRY\n"
     ]
    }
   ],
   "source": [
    "score_array = np.array([0.58519727, 0.11982599, 0.054452  , 0.14637353, 0.09415127])\n",
    "print_sentiment_label(score_array)"
   ]
  },
  {
   "cell_type": "code",
   "execution_count": 139,
   "id": "adeed697",
   "metadata": {},
   "outputs": [
    {
     "name": "stdout",
     "output_type": "stream",
     "text": [
      "1/1 [==============================] - 0s 392ms/step\n"
     ]
    },
    {
     "data": {
      "text/plain": [
       "{'label': 'GREAT',\n",
       " 'score': [0.275446355342865,\n",
       "  0.4498341977596283,\n",
       "  0.054373595863580704,\n",
       "  0.11034145206212997,\n",
       "  0.11000437289476395],\n",
       " 'elapsed_time': 0.4830925464630127}"
      ]
     },
     "execution_count": 139,
     "metadata": {},
     "output_type": "execute_result"
    }
   ],
   "source": [
    "predict(\"Had a song stuck in my head. Thirty seconds later I'm listening to it, thanks to the internet,\\\n",
    "        and Apple/YouTube Music. In the bad old days I'd browse record stores for hours in the hope that the title might jog my memory.\\\n",
    "        It really is a wonderful time to be alive!\")"
   ]
  },
  {
   "cell_type": "code",
   "execution_count": 141,
   "id": "f9fb197c",
   "metadata": {},
   "outputs": [],
   "source": [
    "#score_array = np.array([0.27544636, 0.4498342 , 0.0543736 , 0.11034145, 0.11000437])\n",
    "#print_sentiment_label(score_array)"
   ]
  },
  {
   "cell_type": "code",
   "execution_count": 148,
   "id": "cffce7e0",
   "metadata": {},
   "outputs": [
    {
     "name": "stdout",
     "output_type": "stream",
     "text": [
      "1/1 [==============================] - 0s 402ms/step\n"
     ]
    },
    {
     "data": {
      "text/plain": [
       "{'label': 'ANGRY',\n",
       " 'score': [0.4077552556991577,\n",
       "  0.23904335498809814,\n",
       "  0.0668078288435936,\n",
       "  0.14405415952205658,\n",
       "  0.1423393189907074],\n",
       " 'elapsed_time': 0.5065600872039795}"
      ]
     },
     "execution_count": 148,
     "metadata": {},
     "output_type": "execute_result"
    }
   ],
   "source": [
    "predict(\"For the third time in four years, the Warriors are champions once again.\\\n",
    "This time, they wasted no time in the NBA Finals, dispatching LeBron James and the Cavs in four straight games.\\\n",
    "Here’s how they sealed the championship in Game 4. https://twitter.com/i/moments/1005197277663641600\", True)"
   ]
  },
  {
   "cell_type": "code",
   "execution_count": 143,
   "id": "48993c2d",
   "metadata": {},
   "outputs": [
    {
     "name": "stdout",
     "output_type": "stream",
     "text": [
      "1/1 [==============================] - 0s 409ms/step\n"
     ]
    },
    {
     "data": {
      "text/plain": [
       "{'label': 'ANGRY',\n",
       " 'score': [0.6300213932991028,\n",
       "  0.10498473048210144,\n",
       "  0.04956117644906044,\n",
       "  0.13546928763389587,\n",
       "  0.07996342331171036],\n",
       " 'elapsed_time': 0.5037593841552734}"
      ]
     },
     "execution_count": 143,
     "metadata": {},
     "output_type": "execute_result"
    }
   ],
   "source": [
    "predict(\"these r not ur problems dear!!! these r ur x bf's commitng suicide\")"
   ]
  },
  {
   "cell_type": "code",
   "execution_count": 146,
   "id": "b9940726",
   "metadata": {},
   "outputs": [
    {
     "name": "stdout",
     "output_type": "stream",
     "text": [
      "1/1 [==============================] - 0s 427ms/step\n"
     ]
    },
    {
     "data": {
      "text/plain": [
       "{'label': 'ANGRY',\n",
       " 'score': [0.5757659077644348,\n",
       "  0.14012154936790466,\n",
       "  0.0511014498770237,\n",
       "  0.14511822164058685,\n",
       "  0.08789292722940445],\n",
       " 'elapsed_time': 0.5224635601043701}"
      ]
     },
     "execution_count": 146,
     "metadata": {},
     "output_type": "execute_result"
    }
   ],
   "source": [
    "predict(\"I found some old Reddit post in which one guy from english-speaking country complains that\\\n",
    "the names in The Witcher books are 'too difficult' and non- intuitive for english speaker.\\\n",
    "Man, let me introduce you to 'The books werent written only/for english speakers.'' #witcher\", True)"
   ]
  },
  {
   "cell_type": "code",
   "execution_count": 145,
   "id": "2ee8d982",
   "metadata": {},
   "outputs": [
    {
     "name": "stdout",
     "output_type": "stream",
     "text": [
      "1/1 [==============================] - 0s 416ms/step\n"
     ]
    },
    {
     "data": {
      "text/plain": [
       "{'label': 'GREAT',\n",
       " 'score': [0.22620899975299835,\n",
       "  0.4470811188220978,\n",
       "  0.06442898511886597,\n",
       "  0.1052616611123085,\n",
       "  0.15701927244663239],\n",
       " 'elapsed_time': 0.5034942626953125}"
      ]
     },
     "execution_count": 145,
     "metadata": {},
     "output_type": "execute_result"
    }
   ],
   "source": [
    "predict(\"happiest alive in the whole world, happiest alive in the whole world, happiest alive in the whole world\")"
   ]
  },
  {
   "cell_type": "markdown",
   "id": "3baea83e",
   "metadata": {},
   "source": [
    "# Test"
   ]
  },
  {
   "cell_type": "code",
   "execution_count": 41,
   "id": "c64d4403",
   "metadata": {},
   "outputs": [
    {
     "name": "stdout",
     "output_type": "stream",
     "text": [
      "44/44 [==============================] - 1949s 44s/step\n"
     ]
    }
   ],
   "source": [
    "test_encoded = bert_encode(test.text_clean)\n",
    "\n",
    "test_dataset = (\n",
    "    tf.data.Dataset\n",
    "    .from_tensor_slices(test_encoded)\n",
    "    .batch(batch_size)\n",
    ")\n",
    "\n",
    "y_pred = []\n",
    "predicted_texts = model.predict(test_dataset, batch_size=batch_size)\n",
    "predicted_texts_binary = tf.cast(tf.round(predicted_texts), tf.int32).numpy().flatten()"
   ]
  },
  {
   "cell_type": "code",
   "execution_count": 42,
   "id": "6454a910",
   "metadata": {},
   "outputs": [
    {
     "name": "stdout",
     "output_type": "stream",
     "text": [
      "44/44 [==============================] - 2683s 61s/step - loss: 0.8598 - accuracy: 0.7380\n",
      "\n",
      "ACCURACY: 0.7380357384681702\n",
      "LOSS: 0.8598493337631226\n",
      "CPU times: total: 3h 52min 40s\n",
      "Wall time: 44min 43s\n"
     ]
    }
   ],
   "source": [
    "%%time\n",
    "scores = model.evaluate(test_encoded, y_test, batch_size=batch_size)\n",
    "print()\n",
    "print(\"ACCURACY:\",scores[1])\n",
    "print(\"LOSS:\",scores[0])"
   ]
  },
  {
   "cell_type": "code",
   "execution_count": 44,
   "id": "c2f84cbb",
   "metadata": {},
   "outputs": [],
   "source": [
    "y_pred = []\n",
    "for i in range(predicted_texts.shape[0]):\n",
    "    y_pred.append(np.argmax(predicted_texts[i]))"
   ]
  },
  {
   "cell_type": "code",
   "execution_count": 45,
   "id": "01b6b902",
   "metadata": {},
   "outputs": [
    {
     "name": "stdout",
     "output_type": "stream",
     "text": [
      "              precision    recall  f1-score   support\n",
      "\n",
      "           0       0.67      0.82      0.74      1554\n",
      "           1       0.77      0.94      0.85      3038\n",
      "           2       0.00      0.00      0.00       187\n",
      "           3       0.00      0.00      0.00       300\n",
      "           4       0.32      0.01      0.03       521\n",
      "\n",
      "    accuracy                           0.74      5600\n",
      "   macro avg       0.35      0.35      0.32      5600\n",
      "weighted avg       0.64      0.74      0.67      5600\n",
      "\n"
     ]
    }
   ],
   "source": [
    "print(classification_report(y_test, y_pred))"
   ]
  },
  {
   "cell_type": "code",
   "execution_count": 54,
   "id": "a16d30b2",
   "metadata": {},
   "outputs": [
    {
     "name": "stdout",
     "output_type": "stream",
     "text": [
      "Precision: 0.6361\n",
      "Recall: 0.7380\n",
      "Accuracy: 0.7380\n",
      "F1 Score: 0.6677\n"
     ]
    }
   ],
   "source": [
    "print('Precision: %.4f' % precision_score(y_test, y_pred, average='weighted'))\n",
    "print('Recall: %.4f' % recall_score(y_test, y_pred, average='weighted'))\n",
    "print('Accuracy: %.4f' % accuracy_score(y_test, y_pred))\n",
    "print('F1 Score: %.4f' % f1_score(y_test, y_pred, average='weighted'))"
   ]
  },
  {
   "cell_type": "markdown",
   "id": "14c33b21",
   "metadata": {},
   "source": [
    "# Error Analysis"
   ]
  },
  {
   "cell_type": "code",
   "execution_count": 60,
   "id": "749dba24",
   "metadata": {},
   "outputs": [],
   "source": [
    "decode_map = {0: \"ANGRY\", 1: \"NEGATIVE\", 2: \"NEUTRAL\", 3: \"POSITIVE\", 4: \"GREAT\"}\n",
    "def decode_sentiment(label):\n",
    "    return decode_map[int(label)]"
   ]
  },
  {
   "cell_type": "code",
   "execution_count": 61,
   "id": "76f5891d",
   "metadata": {},
   "outputs": [],
   "source": [
    "df = pd.DataFrame(test.Review, columns=[\"Review\"])\n",
    "df[\"actual\"] = test.Labels\n",
    "df[\"predicted\"] = y_pred\n",
    "df.predicted = df.predicted.apply(lambda x: decode_sentiment(x))\n",
    "pd.set_option('display.max_columns', None)\n",
    "pd.set_option('display.expand_frame_repr', False)\n",
    "pd.set_option('max_colwidth', None)\n",
    "#incorrect = df[df[\"actual\"] != df[\"predicted\"]]\n",
    "#incorrect[10:20]"
   ]
  },
  {
   "cell_type": "code",
   "execution_count": 62,
   "id": "c3bb35a6",
   "metadata": {},
   "outputs": [
    {
     "data": {
      "text/html": [
       "<div>\n",
       "<style scoped>\n",
       "    .dataframe tbody tr th:only-of-type {\n",
       "        vertical-align: middle;\n",
       "    }\n",
       "\n",
       "    .dataframe tbody tr th {\n",
       "        vertical-align: top;\n",
       "    }\n",
       "\n",
       "    .dataframe thead th {\n",
       "        text-align: right;\n",
       "    }\n",
       "</style>\n",
       "<table border=\"1\" class=\"dataframe\">\n",
       "  <thead>\n",
       "    <tr style=\"text-align: right;\">\n",
       "      <th></th>\n",
       "      <th>Review</th>\n",
       "      <th>actual</th>\n",
       "      <th>predicted</th>\n",
       "    </tr>\n",
       "  </thead>\n",
       "  <tbody>\n",
       "    <tr>\n",
       "      <th>505575</th>\n",
       "      <td>I love all my carbs toasted. I would rather be late for work and take the time to toast my bagel than eat it untoasted. This place drew me in because all their subs are TOASTED. Toasted to perfection, served warm, with just a little bit of golden brown starting to appear on the bread. Mmmm....heaven. \\n\\nThis place has a fun vibe. Reggae music playing, really chill workers, plenty of seating inside. Their sandwiches come in 3 sizes 4 inches up to 12 inches. Nicely priced and a pretty extensive menu. \\n\\nI got the Kali Mist which was delicious. Had a bit of kick to it, nicely sauced. I hate dry sandwiches. Can't wait to come back and try all their subs. They have a fun selection of desserts  rice krispies but also captain crunch krispy bars, cinnamon toast crunch bars, and fruity pebble bars. \\n\\nSorry Jimmy John's, Which Wich, Firehouse Subs, Quizno's... every other sub place on state street I'm starting a love affair with Cheeba Hut.</td>\n",
       "      <td>GREAT</td>\n",
       "      <td>NEGATIVE</td>\n",
       "    </tr>\n",
       "    <tr>\n",
       "      <th>191966</th>\n",
       "      <td>Was here about 5:30 pm to 8:30 pm on Mon/16 Dec with a few buddies for their Monday Night Football specials:\\n- $1 drafts and they have a big draft beer selection (Blue Moon, etc)\\n- 1/2 off their sushi rolls/etc, foods pretty good\\n- Friendly staff/bartender\\n- Nice decor with a fish tank in the center of the bar\\nI'll be back for sure.</td>\n",
       "      <td>GREAT</td>\n",
       "      <td>NEGATIVE</td>\n",
       "    </tr>\n",
       "    <tr>\n",
       "      <th>5799</th>\n",
       "      <td>I dig the melting pot, i mean, its fun. Fondue=fun. This was another  \\\"Yay my birthday is during restaurant week!\\\" dinner for me. The cheeses, meat course and salad are good but lets be honest that dessert is where its at. Id get all 3 courses as dessert if i could.   A big pot of chocolate and then cheesecake, rise crispies, bananas, strawberries, red velvet cake and marshmallows all to dip into it. Heavenly is an understatement. \\nI also dig that your in control of your own cooking times. So what if i cook my steak for 10 seconds...rare is good yo...\\nGoing with a large group is smart. Then you can really sample a lot of the stuff on the menu. Our party had 8 peeps in it so we got 3 different cheeses, cooking styles and  chocolates. Service was aiiiiiight considering it was a large party, but it coulda been better. I normally wouldn't be able to afford more than one course here but at $30 for everything during restaurant week it's a hella great deal.</td>\n",
       "      <td>GREAT</td>\n",
       "      <td>NEGATIVE</td>\n",
       "    </tr>\n",
       "    <tr>\n",
       "      <th>251295</th>\n",
       "      <td>After a bad experience at our Favorite Restaurant Roca Akor in Scottsdale, we turned to Yelp and Roka's very capable manager Charles responded within an hour, invited us back and more than made it right.  We knew they had great food and now, thanks to Charles, we know they have great management.  We highly recommend it.</td>\n",
       "      <td>GREAT</td>\n",
       "      <td>NEGATIVE</td>\n",
       "    </tr>\n",
       "    <tr>\n",
       "      <th>502076</th>\n",
       "      <td>I came here on a Saturday night in the summer around 930. They quoted us a wait time of 70 minutes. We had our hearts set on this place, so we said we'd wait. But the best part was that they take your phone number and text you when your table is ready. This was awesome! We got to hang out in the casino and get drinks until our table was ready. Once we were seated we were shown the drink menu. The drinks all looked amazing. Unfortunately, I was the DD for the night. We ordered parmesan (sp?) truffle fries and they were AMAZING! No joke, the best fries I've ever had in my life. The burgers were absolutely delicious. They were cooked to perfection. I hardly ever order a burger medium, and get a burger medium. It's always too well done. But this was perfect. Two friends I was there with ordered their's medium rare and you could see that theirs were absolutely medium rare and noticeably different from my medium. My husband and I keep a list of our top 5 burger places (similar to 'the list' from Friends), and this place shot to the top. We also ordered the Oreo shake and the sticky toffee pudding for dessert. Sticky toffee pudding is one of my all time favorites, but it was not at all good here. The shake was good, but I wish they had a malt option. Still, the sub-par desserts weren't enough to detract from the 5 star rating. Also, the servers' outfits are absolutely hideous, truly the most unflattering ensemble I could imagine for a server, but that's my only real criticism, which is hardly relevant at all.</td>\n",
       "      <td>GREAT</td>\n",
       "      <td>NEGATIVE</td>\n",
       "    </tr>\n",
       "    <tr>\n",
       "      <th>251538</th>\n",
       "      <td>I have to say that this all-you-can-eat sushi buffet wasn't too bad. The service and ambiance was definitely better than Sushimon, but when it comes down to quality, taste, and presentation....Sushimon wins the competition!\\n\\nIf you don't mind driving a bit off the strip, then come to this sushi place. It was only $22 for lunch when my friends and I went here on a Saturday.\\n\\nSorry, peeps...Sushimon is still better for me...</td>\n",
       "      <td>GREAT</td>\n",
       "      <td>NEGATIVE</td>\n",
       "    </tr>\n",
       "    <tr>\n",
       "      <th>493426</th>\n",
       "      <td>Had breakfast here today and it was excellent! The server was fast,  &amp; friendly. Food was hot, fresh and tasty. Will come back again and try the other menu items.</td>\n",
       "      <td>GREAT</td>\n",
       "      <td>NEGATIVE</td>\n",
       "    </tr>\n",
       "    <tr>\n",
       "      <th>312448</th>\n",
       "      <td>Football is king at Towne Tavern, and the brother princes of hockey, basketball and baseball vie for the crown throughout the year. Their court is comprised of raucous crews of kids eating for free on Tuesday nights and rogue interlopers consuming regular drink specials. Their lovely pedestal-seated princess is the most glorious ranch dressing in all of the land, who is often attacked by guerilla French fries who want her all to themselves.\\n\\nDecorated in traditional sports bar regalia, but focusing on the far away upstate New York and neighboring New England teams, Towne Tavern has a visible love for the refugees of cruelly cold winters. They come to Towne Tavern to eat, drink and reminisce about their homeland, and cheer for the Carolina teams on the side.\\n\\nTowne Tavern's menu is highlighted by their burgers and sandwiches, and their surprising level of quality salads, which are high in dark green lettuce content rather than iceberg, as many restaurants of that plane push.\\n\\nService is inconsistent at TT at times; however, not such that it stops us from eating there.  Takeout orders sometimes take longer than they should to appear; so much so that it has occurred to me to wonder if it is done purposely so that those waiting at the bar for meals to go will order another beer.\\n\\nOverall, it is a solid place to eat, and is a staple restaurant in Fort Mill for upstate New York transplants and natives alike.</td>\n",
       "      <td>GREAT</td>\n",
       "      <td>NEGATIVE</td>\n",
       "    </tr>\n",
       "    <tr>\n",
       "      <th>52364</th>\n",
       "      <td>This is the the most dishonest car shop I have ever been to, utterly disgusted at the conduct and lack of ethics of the employees who work here.\\n\\nA few weeks ago I noticed that two of the tail lights on my Acura were out. I took it in Midas as they were the closest shop and knew they were open on Sundays. The window signage stated clearly: free estimates. After waiting for nearly an hour, the technician informed me that since it was an electrical problem, they would have to charge me a diagnostic fee of $75 despite the window stating the contrary.\\n\\nAfter complaining about why did they didn't tell me this an hour ago, they went ahead and honored their policy. They told me that for whatever reason, the 'light switch' went out and had to be replaced at a cost of around $200. I was about to agree to the repairs, until a woman walked in the lobby complaining about her car overheating again despite having it brought in to this shop 3 times and paying each time.\\n\\nThis was enough to turn me off to the repairs and I ultimately drove home, tail lights still malfunctioning. After speaking to my friends, they recommended I check out Hondatronics (see my review for them). I took my car down there the next day and informed the lady working there of the problem, I even mentioned that Midas had told me that the light switch had to be replaced. About an hour later, I got a call back from Hondatronic stating that they had fixed the problem: 2 bulbs which had blown. Total cost: $15. \\n\\nTHANK GOD I DID NOT LET MIDAS DO ANY REPAIRS ON MY CAR. I don't know how they were talking about replacing some part for $200 when all they had to do was replace 2 bulbs. I can't believe this place is still in business. Judging by the other reviews here, its clear that ripping people off is the way this shady shop makes their money. Save your money, time, and go somewhere else.</td>\n",
       "      <td>POSITIVE</td>\n",
       "      <td>ANGRY</td>\n",
       "    </tr>\n",
       "    <tr>\n",
       "      <th>27098</th>\n",
       "      <td>We purchased a living social deal for $139 which was said to include a one nights stay in a king size suite, a $28 breakfast, and a $50 spa credit. However, the breakfast cost more than $28 and was basically disgusting. The toast had the burnt parts scraped off. No joke! For $36 we got burnt toast and greasy eggs. The waiters had NO IDEA what they were doing or what they had. Every question I asked was met with an, \\\"I'm not sure,\\\" or the wrong answer. \\n\\nThe dinner, which cost us over $100, was mediocre at best. The highlight of our $30 steaks was the mashed potatoes, which didn't even come with it, we had to pay for it as a side. The waiter didn't know how much wine came in a wine glass. He guessed it was a 4oz pour. I'm having a $100 dinner, and your waiter doesn't know how big of a pour you have for your wine? Isn't that like training 101? And to top it all off, I left my sunglasses at the table (we were the ONLY table there with the exception of the family sitting 4 tables away) and of course they \\\"hadn't seen them,\\\" when we came back.\\n\\nSo come to find out, the spa credit for $50 covers half of a pathetic massage. My fiance gives me better massages and they are free.\\n\\nI liked that the room was clean, and the water park was fun. However they charged my account for everything, and my fiances account for everything. They also double charged my account for the spa visit. So all in all, our $139 turned into over $900. So be weary when going to this resort.</td>\n",
       "      <td>POSITIVE</td>\n",
       "      <td>ANGRY</td>\n",
       "    </tr>\n",
       "  </tbody>\n",
       "</table>\n",
       "</div>"
      ],
      "text/plain": [
       "                                                                                                                                                                                                                                                                                                                                                                                                                                                                                                                                                                                                                                                                                                                                                                                                                                                                                                                                                                                                                                                                                                                                                                                                                                                                                                                                                                                                                                                                                                                                                                                                                                                                                                                                                                                                                                                                                                                                                         Review    actual predicted\n",
       "505575                                                                                                                                                                                                                                                                                                                                                                                                                                                                                                                                                                                                                                                                                                                                                                                                                                                                                                                                                                     I love all my carbs toasted. I would rather be late for work and take the time to toast my bagel than eat it untoasted. This place drew me in because all their subs are TOASTED. Toasted to perfection, served warm, with just a little bit of golden brown starting to appear on the bread. Mmmm....heaven. \\n\\nThis place has a fun vibe. Reggae music playing, really chill workers, plenty of seating inside. Their sandwiches come in 3 sizes 4 inches up to 12 inches. Nicely priced and a pretty extensive menu. \\n\\nI got the Kali Mist which was delicious. Had a bit of kick to it, nicely sauced. I hate dry sandwiches. Can't wait to come back and try all their subs. They have a fun selection of desserts  rice krispies but also captain crunch krispy bars, cinnamon toast crunch bars, and fruity pebble bars. \\n\\nSorry Jimmy John's, Which Wich, Firehouse Subs, Quizno's... every other sub place on state street I'm starting a love affair with Cheeba Hut.     GREAT  NEGATIVE\n",
       "191966                                                                                                                                                                                                                                                                                                                                                                                                                                                                                                                                                                                                                                                                                                                                                                                                                                                                                                                                                                                                                                                                                                                                                                                                                                                                                                                                                                                                                                                                                                                                                                                                      Was here about 5:30 pm to 8:30 pm on Mon/16 Dec with a few buddies for their Monday Night Football specials:\\n- $1 drafts and they have a big draft beer selection (Blue Moon, etc)\\n- 1/2 off their sushi rolls/etc, foods pretty good\\n- Friendly staff/bartender\\n- Nice decor with a fish tank in the center of the bar\\nI'll be back for sure.     GREAT  NEGATIVE\n",
       "5799                                                                                                                                                                                                                                                                                                                                                                                                                                                                                                                                                                                                                                                                                                                                                                                                                                                                                                                                                   I dig the melting pot, i mean, its fun. Fondue=fun. This was another  \\\"Yay my birthday is during restaurant week!\\\" dinner for me. The cheeses, meat course and salad are good but lets be honest that dessert is where its at. Id get all 3 courses as dessert if i could.   A big pot of chocolate and then cheesecake, rise crispies, bananas, strawberries, red velvet cake and marshmallows all to dip into it. Heavenly is an understatement. \\nI also dig that your in control of your own cooking times. So what if i cook my steak for 10 seconds...rare is good yo...\\nGoing with a large group is smart. Then you can really sample a lot of the stuff on the menu. Our party had 8 peeps in it so we got 3 different cheeses, cooking styles and  chocolates. Service was aiiiiiight considering it was a large party, but it coulda been better. I normally wouldn't be able to afford more than one course here but at $30 for everything during restaurant week it's a hella great deal.     GREAT  NEGATIVE\n",
       "251295                                                                                                                                                                                                                                                                                                                                                                                                                                                                                                                                                                                                                                                                                                                                                                                                                                                                                                                                                                                                                                                                                                                                                                                                                                                                                                                                                                                                                                                                                                                                                                                                                        After a bad experience at our Favorite Restaurant Roca Akor in Scottsdale, we turned to Yelp and Roka's very capable manager Charles responded within an hour, invited us back and more than made it right.  We knew they had great food and now, thanks to Charles, we know they have great management.  We highly recommend it.     GREAT  NEGATIVE\n",
       "502076                                                                                                                                                                                                                                                                                                                                                                  I came here on a Saturday night in the summer around 930. They quoted us a wait time of 70 minutes. We had our hearts set on this place, so we said we'd wait. But the best part was that they take your phone number and text you when your table is ready. This was awesome! We got to hang out in the casino and get drinks until our table was ready. Once we were seated we were shown the drink menu. The drinks all looked amazing. Unfortunately, I was the DD for the night. We ordered parmesan (sp?) truffle fries and they were AMAZING! No joke, the best fries I've ever had in my life. The burgers were absolutely delicious. They were cooked to perfection. I hardly ever order a burger medium, and get a burger medium. It's always too well done. But this was perfect. Two friends I was there with ordered their's medium rare and you could see that theirs were absolutely medium rare and noticeably different from my medium. My husband and I keep a list of our top 5 burger places (similar to 'the list' from Friends), and this place shot to the top. We also ordered the Oreo shake and the sticky toffee pudding for dessert. Sticky toffee pudding is one of my all time favorites, but it was not at all good here. The shake was good, but I wish they had a malt option. Still, the sub-par desserts weren't enough to detract from the 5 star rating. Also, the servers' outfits are absolutely hideous, truly the most unflattering ensemble I could imagine for a server, but that's my only real criticism, which is hardly relevant at all.     GREAT  NEGATIVE\n",
       "251538                                                                                                                                                                                                                                                                                                                                                                                                                                                                                                                                                                                                                                                                                                                                                                                                                                                                                                                                                                                                                                                                                                                                                                                                                                                                                                                                                                                                                                                                                                           I have to say that this all-you-can-eat sushi buffet wasn't too bad. The service and ambiance was definitely better than Sushimon, but when it comes down to quality, taste, and presentation....Sushimon wins the competition!\\n\\nIf you don't mind driving a bit off the strip, then come to this sushi place. It was only $22 for lunch when my friends and I went here on a Saturday.\\n\\nSorry, peeps...Sushimon is still better for me...     GREAT  NEGATIVE\n",
       "493426                                                                                                                                                                                                                                                                                                                                                                                                                                                                                                                                                                                                                                                                                                                                                                                                                                                                                                                                                                                                                                                                                                                                                                                                                                                                                                                                                                                                                                                                                                                                                                                                                                                                                                                                                                                       Had breakfast here today and it was excellent! The server was fast,  & friendly. Food was hot, fresh and tasty. Will come back again and try the other menu items.     GREAT  NEGATIVE\n",
       "312448                                                                                                                                                                                                                                                                                                                                                                                                                                                                Football is king at Towne Tavern, and the brother princes of hockey, basketball and baseball vie for the crown throughout the year. Their court is comprised of raucous crews of kids eating for free on Tuesday nights and rogue interlopers consuming regular drink specials. Their lovely pedestal-seated princess is the most glorious ranch dressing in all of the land, who is often attacked by guerilla French fries who want her all to themselves.\\n\\nDecorated in traditional sports bar regalia, but focusing on the far away upstate New York and neighboring New England teams, Towne Tavern has a visible love for the refugees of cruelly cold winters. They come to Towne Tavern to eat, drink and reminisce about their homeland, and cheer for the Carolina teams on the side.\\n\\nTowne Tavern's menu is highlighted by their burgers and sandwiches, and their surprising level of quality salads, which are high in dark green lettuce content rather than iceberg, as many restaurants of that plane push.\\n\\nService is inconsistent at TT at times; however, not such that it stops us from eating there.  Takeout orders sometimes take longer than they should to appear; so much so that it has occurred to me to wonder if it is done purposely so that those waiting at the bar for meals to go will order another beer.\\n\\nOverall, it is a solid place to eat, and is a staple restaurant in Fort Mill for upstate New York transplants and natives alike.     GREAT  NEGATIVE\n",
       "52364   This is the the most dishonest car shop I have ever been to, utterly disgusted at the conduct and lack of ethics of the employees who work here.\\n\\nA few weeks ago I noticed that two of the tail lights on my Acura were out. I took it in Midas as they were the closest shop and knew they were open on Sundays. The window signage stated clearly: free estimates. After waiting for nearly an hour, the technician informed me that since it was an electrical problem, they would have to charge me a diagnostic fee of $75 despite the window stating the contrary.\\n\\nAfter complaining about why did they didn't tell me this an hour ago, they went ahead and honored their policy. They told me that for whatever reason, the 'light switch' went out and had to be replaced at a cost of around $200. I was about to agree to the repairs, until a woman walked in the lobby complaining about her car overheating again despite having it brought in to this shop 3 times and paying each time.\\n\\nThis was enough to turn me off to the repairs and I ultimately drove home, tail lights still malfunctioning. After speaking to my friends, they recommended I check out Hondatronics (see my review for them). I took my car down there the next day and informed the lady working there of the problem, I even mentioned that Midas had told me that the light switch had to be replaced. About an hour later, I got a call back from Hondatronic stating that they had fixed the problem: 2 bulbs which had blown. Total cost: $15. \\n\\nTHANK GOD I DID NOT LET MIDAS DO ANY REPAIRS ON MY CAR. I don't know how they were talking about replacing some part for $200 when all they had to do was replace 2 bulbs. I can't believe this place is still in business. Judging by the other reviews here, its clear that ripping people off is the way this shady shop makes their money. Save your money, time, and go somewhere else.  POSITIVE     ANGRY\n",
       "27098                                                                                                                                                                                                                                                                                                                                                                                                          We purchased a living social deal for $139 which was said to include a one nights stay in a king size suite, a $28 breakfast, and a $50 spa credit. However, the breakfast cost more than $28 and was basically disgusting. The toast had the burnt parts scraped off. No joke! For $36 we got burnt toast and greasy eggs. The waiters had NO IDEA what they were doing or what they had. Every question I asked was met with an, \\\"I'm not sure,\\\" or the wrong answer. \\n\\nThe dinner, which cost us over $100, was mediocre at best. The highlight of our $30 steaks was the mashed potatoes, which didn't even come with it, we had to pay for it as a side. The waiter didn't know how much wine came in a wine glass. He guessed it was a 4oz pour. I'm having a $100 dinner, and your waiter doesn't know how big of a pour you have for your wine? Isn't that like training 101? And to top it all off, I left my sunglasses at the table (we were the ONLY table there with the exception of the family sitting 4 tables away) and of course they \\\"hadn't seen them,\\\" when we came back.\\n\\nSo come to find out, the spa credit for $50 covers half of a pathetic massage. My fiance gives me better massages and they are free.\\n\\nI liked that the room was clean, and the water park was fun. However they charged my account for everything, and my fiances account for everything. They also double charged my account for the spa visit. So all in all, our $139 turned into over $900. So be weary when going to this resort.  POSITIVE     ANGRY"
      ]
     },
     "execution_count": 62,
     "metadata": {},
     "output_type": "execute_result"
    }
   ],
   "source": [
    "incorrect = df[df[\"actual\"] != df[\"predicted\"]]\n",
    "incorrect[10:20]"
   ]
  },
  {
   "cell_type": "code",
   "execution_count": 66,
   "id": "0a9335cb",
   "metadata": {},
   "outputs": [
    {
     "data": {
      "text/html": [
       "<div>\n",
       "<style scoped>\n",
       "    .dataframe tbody tr th:only-of-type {\n",
       "        vertical-align: middle;\n",
       "    }\n",
       "\n",
       "    .dataframe tbody tr th {\n",
       "        vertical-align: top;\n",
       "    }\n",
       "\n",
       "    .dataframe thead th {\n",
       "        text-align: right;\n",
       "    }\n",
       "</style>\n",
       "<table border=\"1\" class=\"dataframe\">\n",
       "  <thead>\n",
       "    <tr style=\"text-align: right;\">\n",
       "      <th></th>\n",
       "      <th>Review</th>\n",
       "      <th>actual</th>\n",
       "      <th>predicted</th>\n",
       "    </tr>\n",
       "  </thead>\n",
       "  <tbody>\n",
       "    <tr>\n",
       "      <th>223092</th>\n",
       "      <td>The wait time for an appointment is ridiculous. Been waiting over an hour and a half for my scheduled appointment time. These people do not value patients time</td>\n",
       "      <td>ANGRY</td>\n",
       "      <td>ANGRY</td>\n",
       "    </tr>\n",
       "    <tr>\n",
       "      <th>110270</th>\n",
       "      <td>I did not like this hotel at all. It's very old and not comforts in it. \\nThe good thing is that it was cheap but at the time was like a room just to sleep! \\nThere is no view at all and while you are in the Vegas it should not be those kind of rooms. \\nWhen we came in to the room we just sow a trash cans and an a conditioner staff...!!!\\nBut the Casino and staff were good and cute  ...it's was almost like we were in the animation movies...but inside the casino...</td>\n",
       "      <td>NEGATIVE</td>\n",
       "      <td>NEGATIVE</td>\n",
       "    </tr>\n",
       "    <tr>\n",
       "      <th>99132</th>\n",
       "      <td>Have to agree; probably the worst place for \\\"seafood\\\" around. And the corporate atmosphere reminds me of outback or chilis.... enough said.</td>\n",
       "      <td>ANGRY</td>\n",
       "      <td>ANGRY</td>\n",
       "    </tr>\n",
       "    <tr>\n",
       "      <th>136813</th>\n",
       "      <td>Very expensive!!!\\nSound and environment was OK.\\n$22 for two tickets is just not worth it, I would rather watch a movie at home where it is also more comfortable.\\nWe went on a Saturday night and most of the theater was empty, only 2 other people were in the theater/movie we watched, the parking lot was also less than half full while in the past it used to be full and hard to find a parking spot let alone by the door.\\nThey need to drop the price by at least 50% before I would go back...</td>\n",
       "      <td>ANGRY</td>\n",
       "      <td>ANGRY</td>\n",
       "    </tr>\n",
       "    <tr>\n",
       "      <th>239618</th>\n",
       "      <td>Too much bad attitude, unprofessional, and mediocre results. Not to mention that most of the \\\"nail technicians\\\" there cannot properly re-create the nail art that they up-sell. I had to remove \\\"art\\\" and repaint my toenails. \\n\\nIt's ALMOST worth the $20. If it cost any more, I would never go there again.</td>\n",
       "      <td>ANGRY</td>\n",
       "      <td>ANGRY</td>\n",
       "    </tr>\n",
       "    <tr>\n",
       "      <th>401346</th>\n",
       "      <td>So this weekend my 2 cousins and I decided we wanted to get our hair and makeup done at Platinum Entourage. We made reservations for 6pm for three people, assuming that we were going to get our hair done @ 6pm and then proceed to makeup done. Well we come to find that there is only one makeup artist and we all get our hair and makeup done at different times.  Most companies I have gone to in Hollywood they normally will have enough staff members to fulfill the clients' need, and not try to \\\"flip-flop\\\" (that's what prick called it) everyone around because they only have one makeup artist. According to the prick, they just \\\"flip-flop\\\" everyone around regardless of the time you made your appointment, so if you made it at 6pm chances are you won't be seen till 6:45pm.  So not only was that the stupidest business model for a company to have if they specialize in doing hair and makeup but the customer service was garbage. They were sooooooo rude about the entire situation. The receptionist didn't want to take any responsibility for the mix up, and the other guy was a complete prick in the manner that he spoke to us. To make matters worse they screwed up on the type of appointments, and then accused us of calling and canceling one of the makeup appointments!!!! I agree mistakes happen ALL the time, at first I wasn't upset until the prick came over to speak to us.  The manner that they dealt with the entire situation was disgusting, unprofessional and ignorant. NOW I can't say anything about the makeup artist because well we didn't get anything done due to all the screw ups, however, my cousin got her hair done and well it was nothing impressive.</td>\n",
       "      <td>ANGRY</td>\n",
       "      <td>ANGRY</td>\n",
       "    </tr>\n",
       "    <tr>\n",
       "      <th>67935</th>\n",
       "      <td>I went here alone when I first moved to Pittsburgh. Maybe it would've been a better experience had I not been alone, but I go out alone a lot, and I've never felt as awkward as I did when I walked into Gooski's. Everyone turned to look at me as I came in the door, and their eyes followed me until I took a seat in a booth by myself (do I have something on my face?). I grabbed a beer, sat and drank it and decided to leave rather than stay. It didn't feel very friendly to me.. but maybe I'll give it a second chance, based on some of these other reviews.</td>\n",
       "      <td>ANGRY</td>\n",
       "      <td>ANGRY</td>\n",
       "    </tr>\n",
       "    <tr>\n",
       "      <th>533445</th>\n",
       "      <td>We went here on Wed for my grandson's birthday.  We got there about 8 pm and it was sort of busy, and mariaches were singing. The waitress didn't speak English and we had questions about some menu items which were in Spanish. It took us awhile to order due to the language barrier [two dishes were described exactly the same in different sections w/different prices, and other issues] and her serving other tables. By that time, the place had totally cleared out, including the music. My son and his wife got their shrimp burro meals fairly fast, then quite awhile later when they were finished, my grandson got his bacon-wrapped shrimp [he wasn't hungry any more from eating chips, etc], and then 15-20 minutes later, I got my \\\"seafood stuffed fish\\\" [ I guess seafood means only \\\"shrimp\\\" and veggies on top]. It took over an hour for my fiancee to get his Zarande Ado Relleno [grilled whole fish w/veggies on top] and I had to request his side of tortillas that were to come with it. He had been sharing my food and eating lots of chips, salsa and ceviche because he was starving, so wasn't hungry any more. He took a couple of bites of his meal and packed it to go [as did my Grandson]--we had to leave because he gets up very early for work, and it was after 9:30. On a positive note, the salsa was one of the best I've ever had [would like to get the recipe], and that along with the chips and ceviche [nice perk], and Margaritas(!) saved us while waiting for our food. However, although servings were generous the seafood did not have much flavor, was overcooked and a disappointment after reading some of the glowing reviews. It was not the waitress's fault the food took so long and she comped us on a round of drinks while we waited for the last two plates. Otherwise, she was fairly attentive, but it was very frustrating trying to communicate with her, only speaking muy poquito Espanol and using hand gestures. She did apologize, and I was sorry it was a negative experience because we were there to \\\"celebrate\\\" a birthday.</td>\n",
       "      <td>NEGATIVE</td>\n",
       "      <td>NEGATIVE</td>\n",
       "    </tr>\n",
       "    <tr>\n",
       "      <th>109019</th>\n",
       "      <td>I am genuinely the most easiest person to please. I always drove past this location and asked myself, \\\"Why have I NOT tried this place yet?\\\" \\n \\nWe stood in line waiting to order and there was this elderly women in front of us who obviously was trying her best to take an order being it was her first time too, the cashier lady immediately got frustrated and scold the lady to pick up the tone of her voice because she couldn't hear her order.  \\nIf that wasn't rude enough a drive thru asked for her assistants and she snapped at them telling them that she's occupied, \\\"Hold Up!\\\"\\n\\nThen it was my turn to order. I gave her the benefit of the doubt and did my best to order... I decided on a medium burger, and she rudely told me... \\\"you mean the beef medium burger?\\\" Long story short because I don't want to write an essay...\\n\\nIf she didn't love her job find a new one... or if she was having a bad day? Take a moment to go and breath. There should be no reason for her to mistreat her guest. Especially when you never know who that guest could be. \\n\\nFood came out, we noticed she missed a lot of things we requested.... disappointed because the food was actually tastey.</td>\n",
       "      <td>ANGRY</td>\n",
       "      <td>ANGRY</td>\n",
       "    </tr>\n",
       "    <tr>\n",
       "      <th>103807</th>\n",
       "      <td>How stupid are the supervisors of this airport? They have small shuttles to get you between terminals. The shuttles are very small buses that can not accommodate luggage. People who have to transfer from international to domestic usually have to grab their luggage and take it themselves. So no room in the shuttles. It is too far to walk. Stupid ignorant cheap supervisors. I can only assume that all the big buses were taken. Do us a favor and do something about that.</td>\n",
       "      <td>ANGRY</td>\n",
       "      <td>ANGRY</td>\n",
       "    </tr>\n",
       "    <tr>\n",
       "      <th>3726</th>\n",
       "      <td>I've had a lot of things both dry cleaned and altered at this place (several hundred dollars worth). He is consistently late and there were a  couple of instances where I had to take stuff back to be re-done. I've only gone because it is convenient to my location and reasonably priced. I will never go back though. The straw that broke the camels back for me was the most recent time when I had him alter two suits. We agreed on two weeks to complete the work. I came back in three and he hadn't even started. He told me the earliest he could do it was another week and then was late again. Seriously? How hard is this? I am now going to start a search for a more reliable place.</td>\n",
       "      <td>ANGRY</td>\n",
       "      <td>ANGRY</td>\n",
       "    </tr>\n",
       "    <tr>\n",
       "      <th>402829</th>\n",
       "      <td>After reading my review the owner Dave contacted me. He was very professional and apologetic about what had happened and refunded my deposit. He didn't try to convince me that I was wrong but simply admitted that what had happened was unacceptable. It's not often that you get this kind of follow up service from any business so big props to Dave.</td>\n",
       "      <td>ANGRY</td>\n",
       "      <td>ANGRY</td>\n",
       "    </tr>\n",
       "    <tr>\n",
       "      <th>430166</th>\n",
       "      <td>Today at around 3:30 PM, i walked into this store where they were about 10 partons in the store. One of the clerks said \\\"Hi, hows it going today\\\", i said 'fine, but i'm about to get busy'. He notices my recently rescued puppy sitting in my car. He then yells out that he can see the heat rising over my dog's head, then this clerk says he (or someone) is going to break out my car windows\\\"??? I replied 'that i'm going to break you\\\" and some other words if he does that. By then i'm angry, or maybe embarrassed, since my car windows were down ...and i had a friend in the car with her, as well, and i'm only in that store for maybe 5 minutes. I'm angry because this is the 2nd time this clerk has made a comment that's pretty hostile about my dog, so this time i wanted to talk to him about how this makes me feel. The other clerk,  Robert Vassos, then begins to YELL at the top of his voice at me about wanting to address this clerk (all i said to that clerk was \\\"you hurt my feelings\\\") while he pushes him away, he's telling me to leave the store,, don't come back and a few other nasty words. I remained calm but i flipped him off and licked my tongue out at him (i know, very childish) with a smile on my face as i exited the store, not sure what else i said before that moment. He thens runs behind me yelling out the door \\\"screw you and your dog!!\\\"??  I flipped him off again, something i NEVER, EVER do, even in traffic, or at anyone, for that matter but i needed to fight back at this point since both of them had become hostile towards me by then??\\n\\n I'm a 4th generation Nevadan Grandpa worked on Boulder Dam, my dad owned packaged liquors in the Midwest after his years as a professional football player. I've never seen such crazy hostile reactions being it was their clerk that started this with me by making threats about vandalizing my car when i walked into their store? The reasons i became so concerned now was that the other many patrons might decide to attack me or my car, thinking i was doing what he had accused me of doing to my puppy?? I'm a hybrid driving vegan that lives a sustainable lifestyle but i dont run around in grocery stores YELLING at customers because they choose to eat meat or drive gas guzzling cars,, yet this clerk is yelling at me about my furrychild based on paranoid delusions?? \\n\\n In the past, all the other clerks have been extremely nice but this clerk needs reevaluation and should keep his hostile, paranoid thoughts to himself; that manager needs anger management before he hurts someone. thank you!</td>\n",
       "      <td>ANGRY</td>\n",
       "      <td>ANGRY</td>\n",
       "    </tr>\n",
       "    <tr>\n",
       "      <th>433901</th>\n",
       "      <td>Although I like the concept of the place, it was seriously lacking in customer service.  In addition, the bartenders don't even know enough to tell you what different types of beer they have.  I don't care what your selling, you should at least have some knowledge about your product.</td>\n",
       "      <td>ANGRY</td>\n",
       "      <td>ANGRY</td>\n",
       "    </tr>\n",
       "    <tr>\n",
       "      <th>221807</th>\n",
       "      <td>Worst Sprint store in town. Their staff are theives and the managers cover up for them. I'm currently disputing  fraudulent charges from this store. No one wants to take responsibility and I'm out 500$ \\n\\nHorrible customer service and untrained staff. \\n\\nI proved one of their sales people stole from me and threw manager did nothing!\\n\\nI'm also reporting this store to the BBB.\\n\\nDO NOT GO HERE!</td>\n",
       "      <td>ANGRY</td>\n",
       "      <td>ANGRY</td>\n",
       "    </tr>\n",
       "    <tr>\n",
       "      <th>286735</th>\n",
       "      <td>I was also in the group of four from the below review. The service was beyond absurd. Ordering four drinks in a pub that is moderately busy shouldn't take over half an hour. Our 'waitress' took 15 minutes of that to even come and greet the table. \\n\\nAfter ordering we sat and watched new customers come in and sit at the bar, promptly receiving service and drinks. All the while, our waitress would stand at the bar and drink her own drink, watch the football game or just completely disappear into the back. At first, I thought she was waiting on the bar, but the bartender wasn't busy, as he spent most of his time standing and talking. \\n\\nFinally our drinks came. The whiskey was an issue, plus the cider was flat and tasted horrible. Alas, the waitress was nowhere to be seen for over 10 minutes and by the time she re-appeared, we were ready for our bill and wanted to leave.\\n\\nThe staff here seems to be lacking training and some sort of management. I can't believe a table of four, who would have stayed for more drinks, can't get more than one round in 45 minutes. The entire staff seemed more interested in socializing with each other and watching tv than any kind of service.\\n\\nIf I'm going to spend 8.50 on a beer, I'll be going somewhere that I can at least get more than one, and won't taste like the keg isn't cold and a couple months past it's expiry.</td>\n",
       "      <td>ANGRY</td>\n",
       "      <td>ANGRY</td>\n",
       "    </tr>\n",
       "    <tr>\n",
       "      <th>102794</th>\n",
       "      <td>I just came back from here. The drive thru was crazy, of course because of the time (1130). \\n\\nThere was a young employee setting up an umbrella and a sign. He was the ONLY one who was nice, which you would think, in this heat, he would be a little snappy.\\n\\nThe other two employees I greeted, said \\\"hello\\\" to, asked them how they were. No response.\\n\\nUnreal. But my order was right.</td>\n",
       "      <td>ANGRY</td>\n",
       "      <td>ANGRY</td>\n",
       "    </tr>\n",
       "    <tr>\n",
       "      <th>397789</th>\n",
       "      <td>Klassische Pizzeria mit klassischer Speisekarte. Rucasalat mit gehobeltem Parmesan 6 EUR, Spaghetti Aglio Olio 8 EUR. Man kann drau\\u00dfen an der Stra\\u00dfe ganz nett sitzen, drinnen ist's seit mindestens 20 Jahren weitgehend unver\\u00e4ndert und immer noch altmodisch rustikal. Bedienung manchmal etwas knurrig. Pasta leider nicht al dente. Schmeckt aber ganz ordentlich.</td>\n",
       "      <td>ANGRY</td>\n",
       "      <td>ANGRY</td>\n",
       "    </tr>\n",
       "    <tr>\n",
       "      <th>325919</th>\n",
       "      <td>When They scale the seafood with 1/4lb of water with it! Ask for scale again they refuse to do it! Complain to manager, and said that how it is because so cheap!! That's not the right way to do the business! So I give up whole shopping cart n left! ! Not honest to costumer.</td>\n",
       "      <td>ANGRY</td>\n",
       "      <td>ANGRY</td>\n",
       "    </tr>\n",
       "    <tr>\n",
       "      <th>270055</th>\n",
       "      <td>This is the worst car rental company ever. Not only is the Las Vegas airport  location crooked but so is the corporate office. I had a prepaid reservation booked months in advance. When I arrived to pick up the car I informed them that the credit card that I used to pay for the reservation had been cancelled due to fraudulent activity and they issued me a new card which I presented to them. I was informed that because I did not have the original card that the reservation is not valid. Even though they had full payment on the rental paid months earlier and the replacement card issued by the credit card company for security they would not honor my reservation.They would however make a new reservation as a \\\"walk up\\\" at double the rate I had already Paid! I told them I was not willing to pay double and they informed me the rate was non negotiable. Duke A. the manager was very rude and said he was going to call security if I did not leave the counter while I was trying to reach the corporate office via my cell phone. I contacted the corporate office and they are as crooked as this location. They are not willing to refund my money that the charged to my credit card (it was paid in full). What kind of company can get away with not honoring your pre-paid reservation and then no give you your money back when you refuse to pay double ! In this day and age with the amount of credit card that goes on this is not an isolated incident.\\nInstead of having a little compassion they try to bend you over and charge you double.</td>\n",
       "      <td>ANGRY</td>\n",
       "      <td>ANGRY</td>\n",
       "    </tr>\n",
       "    <tr>\n",
       "      <th>371797</th>\n",
       "      <td>$20 pedicure...the worst I ever had....the lady was so rough and rushed through the whole thing...instead of relaxing after a long week I was nervous and anxious the whole time. It was so bad I felt like walking out.</td>\n",
       "      <td>ANGRY</td>\n",
       "      <td>ANGRY</td>\n",
       "    </tr>\n",
       "    <tr>\n",
       "      <th>451575</th>\n",
       "      <td>I'm not mad at this place. I'm disappointed.\\n\\nUpon walking into this nearly dead bar at the peak hour of service on a Friday night, I noticed they had a few solid beers on tap. I proceeded to order a Goose Island 312. The conversation with the bartender went as follows:\\n\\n- \\\"I'll have a 312, please\\\"\\n-- \\\"Miller Lite?\\\"\\n- \\\"No, a 312\\\"\\n-- \\\"What's that?\\\"\\n- \\\"Goose Island 312\\\"\\n-- \\\"???\\\"\\n- \\\"THAT TAP HANDLE WITH THE BIG GOOSE HEAD ON IT\\\"\\n-- \\\"Oh...\\\"\\n\\nThe gentleman with the haircut fit for a Jersey Shore cast member poured the beer, I gave him my $4.50, and went on to a table. The first floor was dead, so we walked to the second. Even more dead, we moved on to the third...also dead. I then began drinking my beer. Flat and skunked. For the first time in my life I had to return a draft beer. I walked back down through the empty levels of the bar and asked for a refund.\\n\\nThe bartender rolled his eyes and went to the back to get his manager to approve the refund. He came back out saying the manager will be out in a second. A few minutes went buy...no manager. These minutes were filled with the bartender texting and not catering to the other few patrons that were there. He again went to the back to fetch the manager, still nothing. He finally opened up the register, took back out my $4.50, and reluctantly placed it on the bar top and delivered an attitude-filled \\\"have a good night\\\". \\n\\nThe only good thing this bar provided was that it's 3rd floor provided a view of a row of cool bars in the distance I didn't know existed. My friend and I made the wise choice of leaving Barney's and giving other establishments our business.\\n\\nIn a nutshell: avoid.</td>\n",
       "      <td>ANGRY</td>\n",
       "      <td>ANGRY</td>\n",
       "    </tr>\n",
       "    <tr>\n",
       "      <th>479886</th>\n",
       "      <td>This place has TWO Yelp pages.  Be sure to check out the other one that isn't filtering out the bad ratings!!!</td>\n",
       "      <td>ANGRY</td>\n",
       "      <td>ANGRY</td>\n",
       "    </tr>\n",
       "    <tr>\n",
       "      <th>222902</th>\n",
       "      <td>Don't use them their pick ups or not ever 15 min.</td>\n",
       "      <td>ANGRY</td>\n",
       "      <td>ANGRY</td>\n",
       "    </tr>\n",
       "    <tr>\n",
       "      <th>408086</th>\n",
       "      <td>I ordered a cab online the evening before I needed it to get me to the Badger Bus. The cab never showed up. When I called,  the dispatcher was rude and unhelpful.</td>\n",
       "      <td>ANGRY</td>\n",
       "      <td>ANGRY</td>\n",
       "    </tr>\n",
       "    <tr>\n",
       "      <th>493477</th>\n",
       "      <td>I had a water leak in and drip system that was never really use at my families rental.  Epcor's records show that we went from being a family using about 9k gallons of water a month to 35k gallons a month.  Our property has no pool and Epcor says they have no way to detect such discrepancies.  Really!!  As a young family being busy and never paying for a water bill quite like this, it took us a few months to notice.  Know that this company does not care about their customer and their service is extremely poor.  They are not willing to help us out in any way.</td>\n",
       "      <td>ANGRY</td>\n",
       "      <td>ANGRY</td>\n",
       "    </tr>\n",
       "    <tr>\n",
       "      <th>356467</th>\n",
       "      <td>The atmosphere was was strained and the techs made no attempt to converse with clients.  There was only one young lady, I think that does the lashes, she was very nice.  My tech was terrible and I had the worst manicure with gel ever.  What a waste of money.  My polish is chipping and I only got them done on Friday. Don't go there, find another place. Very pushy trying to up sell.</td>\n",
       "      <td>ANGRY</td>\n",
       "      <td>ANGRY</td>\n",
       "    </tr>\n",
       "    <tr>\n",
       "      <th>92700</th>\n",
       "      <td>Friday night we went to a business dinner as a part of a party of 6. While the ambiance was FANTASTICALLY AMAZING, the dinner was amazingly disappointing in every other way. Our bill totalled $850 and was paid for on our host's expense account so no personal money was wasted but it still REALLY bothered me how HORRIBLE and DISGRACEFUL both the service and the food were. Appetizers were not served and when we remind our waiter, RIchard, he had the nerve to charge us for the one we still wanted! The food was really inconsistent--our host did not like his cauliflower soup or snapper. Desert orders were taken in bits and pieces JUST TO NAME A FEW OF THE PROBLEMS. It makes no sense how a seemingly fine fine fine restaurant can have such poor service and do nothing in the end for its guests. The whole experience was really mind-bending since the potential was tremendous and the result so poor.</td>\n",
       "      <td>ANGRY</td>\n",
       "      <td>ANGRY</td>\n",
       "    </tr>\n",
       "    <tr>\n",
       "      <th>180292</th>\n",
       "      <td>We visited Makino's April of 2008 and the horrible experience is still so vivid that I had to write this review....\\n\\nMy hungry family and I were really looking forward to enjoying an Asian/sushi buffet (a nice break from the hotel buffets), but only to be let down.   We arrived at Makino at 8pm.   The hostess gladly led us to a table.    It was now 8:10, after getting my kids washed up before eating and getting them their food, when an announcement on the overhead speakers stated to get all the food you wanted to eat because they were putting the food away in 15 minutes.   It was a mad dash for the food.    They immediately started covering up the various dishes and putting them away.   We really didn't have \\\"time\\\" to get what we wanted.  When we complained to our waitress, she just shrugged her shoulders and the hostess avoided making eye contact with us.  Needless to say, it was a very bad experience.   The hostess should have mentioned this at the start, but I guess since business was slow, they were desperate for the money at the expense of customer satisfaction.   To top it all off, I ended up with a severe case of the SHITS after eating here.   \\n\\nThis is by far the WORST buffet I've been to.</td>\n",
       "      <td>ANGRY</td>\n",
       "      <td>ANGRY</td>\n",
       "    </tr>\n",
       "    <tr>\n",
       "      <th>459566</th>\n",
       "      <td>Walked in at 0900 on a Sunday and got a cut without waiting because of a cancelled appointment. Place is really busy from open to close so I would call ahead and make an appointment. Great haircut with attention to detail for $18.</td>\n",
       "      <td>NEGATIVE</td>\n",
       "      <td>NEGATIVE</td>\n",
       "    </tr>\n",
       "  </tbody>\n",
       "</table>\n",
       "</div>"
      ],
      "text/plain": [
       "                                                                                                                                                                                                                                                                                                                                                                                                                                                                                                                                                                                                                                                                                                                                                                                                                                                                                                                                                                                                                                                                                                                                                                                                                                                                                                                                                                                                                                                                                                                                                                                                                                                                                                                                                                                                                                                                                                                                                                                                                                                                                                                                                                                                                                                                                                                                                                                                                                                                                                                                                                                                                                                                       Review    actual predicted\n",
       "223092                                                                                                                                                                                                                                                                                                                                                                                                                                                                                                                                                                                                                                                                                                                                                                                                                                                                                                                                                                                                                                                                                                                                                                                                                                                                                                                                                                                                                                                                                                                                                                                                                                                                                                                                                                                                                                                                                                                                                                                                                                                                                                                                                                                                                                                                                                                                                                                                                                                                                                        The wait time for an appointment is ridiculous. Been waiting over an hour and a half for my scheduled appointment time. These people do not value patients time     ANGRY     ANGRY\n",
       "110270                                                                                                                                                                                                                                                                                                                                                                                                                                                                                                                                                                                                                                                                                                                                                                                                                                                                                                                                                                                                                                                                                                                                                                                                                                                                                                                                                                                                                                                                                                                                                                                                                                                                                                                                                                                                                                                                                                                                                                                                                                                                                                                                                                                   I did not like this hotel at all. It's very old and not comforts in it. \\nThe good thing is that it was cheap but at the time was like a room just to sleep! \\nThere is no view at all and while you are in the Vegas it should not be those kind of rooms. \\nWhen we came in to the room we just sow a trash cans and an a conditioner staff...!!!\\nBut the Casino and staff were good and cute  ...it's was almost like we were in the animation movies...but inside the casino...  NEGATIVE  NEGATIVE\n",
       "99132                                                                                                                                                                                                                                                                                                                                                                                                                                                                                                                                                                                                                                                                                                                                                                                                                                                                                                                                                                                                                                                                                                                                                                                                                                                                                                                                                                                                                                                                                                                                                                                                                                                                                                                                                                                                                                                                                                                                                                                                                                                                                                                                                                                                                                                                                                                                                                                                                                                                                                                           Have to agree; probably the worst place for \\\"seafood\\\" around. And the corporate atmosphere reminds me of outback or chilis.... enough said.     ANGRY     ANGRY\n",
       "136813                                                                                                                                                                                                                                                                                                                                                                                                                                                                                                                                                                                                                                                                                                                                                                                                                                                                                                                                                                                                                                                                                                                                                                                                                                                                                                                                                                                                                                                                                                                                                                                                                                                                                                                                                                                                                                                                                                                                                                                                                                                                                                                                                          Very expensive!!!\\nSound and environment was OK.\\n$22 for two tickets is just not worth it, I would rather watch a movie at home where it is also more comfortable.\\nWe went on a Saturday night and most of the theater was empty, only 2 other people were in the theater/movie we watched, the parking lot was also less than half full while in the past it used to be full and hard to find a parking spot let alone by the door.\\nThey need to drop the price by at least 50% before I would go back...     ANGRY     ANGRY\n",
       "239618                                                                                                                                                                                                                                                                                                                                                                                                                                                                                                                                                                                                                                                                                                                                                                                                                                                                                                                                                                                                                                                                                                                                                                                                                                                                                                                                                                                                                                                                                                                                                                                                                                                                                                                                                                                                                                                                                                                                                                                                                                                                                                                                                                                                                                                                                                                                                   Too much bad attitude, unprofessional, and mediocre results. Not to mention that most of the \\\"nail technicians\\\" there cannot properly re-create the nail art that they up-sell. I had to remove \\\"art\\\" and repaint my toenails. \\n\\nIt's ALMOST worth the $20. If it cost any more, I would never go there again.     ANGRY     ANGRY\n",
       "401346                                                                                                                                                                                                                                                                                                                                                                                                                                                                                                                                                                                                                                                                                                                                                                                                                                                                                                                                 So this weekend my 2 cousins and I decided we wanted to get our hair and makeup done at Platinum Entourage. We made reservations for 6pm for three people, assuming that we were going to get our hair done @ 6pm and then proceed to makeup done. Well we come to find that there is only one makeup artist and we all get our hair and makeup done at different times.  Most companies I have gone to in Hollywood they normally will have enough staff members to fulfill the clients' need, and not try to \\\"flip-flop\\\" (that's what prick called it) everyone around because they only have one makeup artist. According to the prick, they just \\\"flip-flop\\\" everyone around regardless of the time you made your appointment, so if you made it at 6pm chances are you won't be seen till 6:45pm.  So not only was that the stupidest business model for a company to have if they specialize in doing hair and makeup but the customer service was garbage. They were sooooooo rude about the entire situation. The receptionist didn't want to take any responsibility for the mix up, and the other guy was a complete prick in the manner that he spoke to us. To make matters worse they screwed up on the type of appointments, and then accused us of calling and canceling one of the makeup appointments!!!! I agree mistakes happen ALL the time, at first I wasn't upset until the prick came over to speak to us.  The manner that they dealt with the entire situation was disgusting, unprofessional and ignorant. NOW I can't say anything about the makeup artist because well we didn't get anything done due to all the screw ups, however, my cousin got her hair done and well it was nothing impressive.     ANGRY     ANGRY\n",
       "67935                                                                                                                                                                                                                                                                                                                                                                                                                                                                                                                                                                                                                                                                                                                                                                                                                                                                                                                                                                                                                                                                                                                                                                                                                                                                                                                                                                                                                                                                                                                                                                                                                                                                                                                                                                                                                                                                                                                                                                                                                                                                                            I went here alone when I first moved to Pittsburgh. Maybe it would've been a better experience had I not been alone, but I go out alone a lot, and I've never felt as awkward as I did when I walked into Gooski's. Everyone turned to look at me as I came in the door, and their eyes followed me until I took a seat in a booth by myself (do I have something on my face?). I grabbed a beer, sat and drank it and decided to leave rather than stay. It didn't feel very friendly to me.. but maybe I'll give it a second chance, based on some of these other reviews.     ANGRY     ANGRY\n",
       "533445                                                                                                                                                                                                                                                                                                                                                                                                                                                                                                                                               We went here on Wed for my grandson's birthday.  We got there about 8 pm and it was sort of busy, and mariaches were singing. The waitress didn't speak English and we had questions about some menu items which were in Spanish. It took us awhile to order due to the language barrier [two dishes were described exactly the same in different sections w/different prices, and other issues] and her serving other tables. By that time, the place had totally cleared out, including the music. My son and his wife got their shrimp burro meals fairly fast, then quite awhile later when they were finished, my grandson got his bacon-wrapped shrimp [he wasn't hungry any more from eating chips, etc], and then 15-20 minutes later, I got my \\\"seafood stuffed fish\\\" [ I guess seafood means only \\\"shrimp\\\" and veggies on top]. It took over an hour for my fiancee to get his Zarande Ado Relleno [grilled whole fish w/veggies on top] and I had to request his side of tortillas that were to come with it. He had been sharing my food and eating lots of chips, salsa and ceviche because he was starving, so wasn't hungry any more. He took a couple of bites of his meal and packed it to go [as did my Grandson]--we had to leave because he gets up very early for work, and it was after 9:30. On a positive note, the salsa was one of the best I've ever had [would like to get the recipe], and that along with the chips and ceviche [nice perk], and Margaritas(!) saved us while waiting for our food. However, although servings were generous the seafood did not have much flavor, was overcooked and a disappointment after reading some of the glowing reviews. It was not the waitress's fault the food took so long and she comped us on a round of drinks while we waited for the last two plates. Otherwise, she was fairly attentive, but it was very frustrating trying to communicate with her, only speaking muy poquito Espanol and using hand gestures. She did apologize, and I was sorry it was a negative experience because we were there to \\\"celebrate\\\" a birthday.  NEGATIVE  NEGATIVE\n",
       "109019                                                                                                                                                                                                                                                                                                                                                                                                                                                                                                                                                                                                                                                                                                                                                                                                                                                                                                                                                                                                                                                                                                                                                                                                                                                                                                                                                                                                                                       I am genuinely the most easiest person to please. I always drove past this location and asked myself, \\\"Why have I NOT tried this place yet?\\\" \\n \\nWe stood in line waiting to order and there was this elderly women in front of us who obviously was trying her best to take an order being it was her first time too, the cashier lady immediately got frustrated and scold the lady to pick up the tone of her voice because she couldn't hear her order.  \\nIf that wasn't rude enough a drive thru asked for her assistants and she snapped at them telling them that she's occupied, \\\"Hold Up!\\\"\\n\\nThen it was my turn to order. I gave her the benefit of the doubt and did my best to order... I decided on a medium burger, and she rudely told me... \\\"you mean the beef medium burger?\\\" Long story short because I don't want to write an essay...\\n\\nIf she didn't love her job find a new one... or if she was having a bad day? Take a moment to go and breath. There should be no reason for her to mistreat her guest. Especially when you never know who that guest could be. \\n\\nFood came out, we noticed she missed a lot of things we requested.... disappointed because the food was actually tastey.     ANGRY     ANGRY\n",
       "103807                                                                                                                                                                                                                                                                                                                                                                                                                                                                                                                                                                                                                                                                                                                                                                                                                                                                                                                                                                                                                                                                                                                                                                                                                                                                                                                                                                                                                                                                                                                                                                                                                                                                                                                                                                                                                                                                                                                                                                                                                                                                                                                                                                                 How stupid are the supervisors of this airport? They have small shuttles to get you between terminals. The shuttles are very small buses that can not accommodate luggage. People who have to transfer from international to domestic usually have to grab their luggage and take it themselves. So no room in the shuttles. It is too far to walk. Stupid ignorant cheap supervisors. I can only assume that all the big buses were taken. Do us a favor and do something about that.     ANGRY     ANGRY\n",
       "3726                                                                                                                                                                                                                                                                                                                                                                                                                                                                                                                                                                                                                                                                                                                                                                                                                                                                                                                                                                                                                                                                                                                                                                                                                                                                                                                                                                                                                                                                                                                                                                                                                                                                                                                                                                                                                                                                                                                                                                 I've had a lot of things both dry cleaned and altered at this place (several hundred dollars worth). He is consistently late and there were a  couple of instances where I had to take stuff back to be re-done. I've only gone because it is convenient to my location and reasonably priced. I will never go back though. The straw that broke the camels back for me was the most recent time when I had him alter two suits. We agreed on two weeks to complete the work. I came back in three and he hadn't even started. He told me the earliest he could do it was another week and then was late again. Seriously? How hard is this? I am now going to start a search for a more reliable place.     ANGRY     ANGRY\n",
       "402829                                                                                                                                                                                                                                                                                                                                                                                                                                                                                                                                                                                                                                                                                                                                                                                                                                                                                                                                                                                                                                                                                                                                                                                                                                                                                                                                                                                                                                                                                                                                                                                                                                                                                                                                                                                                                                                                                                                                                                                                                                                                                                                                                                                                                                                                                                            After reading my review the owner Dave contacted me. He was very professional and apologetic about what had happened and refunded my deposit. He didn't try to convince me that I was wrong but simply admitted that what had happened was unacceptable. It's not often that you get this kind of follow up service from any business so big props to Dave.     ANGRY     ANGRY\n",
       "430166  Today at around 3:30 PM, i walked into this store where they were about 10 partons in the store. One of the clerks said \\\"Hi, hows it going today\\\", i said 'fine, but i'm about to get busy'. He notices my recently rescued puppy sitting in my car. He then yells out that he can see the heat rising over my dog's head, then this clerk says he (or someone) is going to break out my car windows\\\"??? I replied 'that i'm going to break you\\\" and some other words if he does that. By then i'm angry, or maybe embarrassed, since my car windows were down ...and i had a friend in the car with her, as well, and i'm only in that store for maybe 5 minutes. I'm angry because this is the 2nd time this clerk has made a comment that's pretty hostile about my dog, so this time i wanted to talk to him about how this makes me feel. The other clerk,  Robert Vassos, then begins to YELL at the top of his voice at me about wanting to address this clerk (all i said to that clerk was \\\"you hurt my feelings\\\") while he pushes him away, he's telling me to leave the store,, don't come back and a few other nasty words. I remained calm but i flipped him off and licked my tongue out at him (i know, very childish) with a smile on my face as i exited the store, not sure what else i said before that moment. He thens runs behind me yelling out the door \\\"screw you and your dog!!\\\"??  I flipped him off again, something i NEVER, EVER do, even in traffic, or at anyone, for that matter but i needed to fight back at this point since both of them had become hostile towards me by then??\\n\\n I'm a 4th generation Nevadan Grandpa worked on Boulder Dam, my dad owned packaged liquors in the Midwest after his years as a professional football player. I've never seen such crazy hostile reactions being it was their clerk that started this with me by making threats about vandalizing my car when i walked into their store? The reasons i became so concerned now was that the other many patrons might decide to attack me or my car, thinking i was doing what he had accused me of doing to my puppy?? I'm a hybrid driving vegan that lives a sustainable lifestyle but i dont run around in grocery stores YELLING at customers because they choose to eat meat or drive gas guzzling cars,, yet this clerk is yelling at me about my furrychild based on paranoid delusions?? \\n\\n In the past, all the other clerks have been extremely nice but this clerk needs reevaluation and should keep his hostile, paranoid thoughts to himself; that manager needs anger management before he hurts someone. thank you!     ANGRY     ANGRY\n",
       "433901                                                                                                                                                                                                                                                                                                                                                                                                                                                                                                                                                                                                                                                                                                                                                                                                                                                                                                                                                                                                                                                                                                                                                                                                                                                                                                                                                                                                                                                                                                                                                                                                                                                                                                                                                                                                                                                                                                                                                                                                                                                                                                                                                                                                                                                                                                                                                                           Although I like the concept of the place, it was seriously lacking in customer service.  In addition, the bartenders don't even know enough to tell you what different types of beer they have.  I don't care what your selling, you should at least have some knowledge about your product.     ANGRY     ANGRY\n",
       "221807                                                                                                                                                                                                                                                                                                                                                                                                                                                                                                                                                                                                                                                                                                                                                                                                                                                                                                                                                                                                                                                                                                                                                                                                                                                                                                                                                                                                                                                                                                                                                                                                                                                                                                                                                                                                                                                                                                                                                                                                                                                                                                                                                                                                                                                       Worst Sprint store in town. Their staff are theives and the managers cover up for them. I'm currently disputing  fraudulent charges from this store. No one wants to take responsibility and I'm out 500$ \\n\\nHorrible customer service and untrained staff. \\n\\nI proved one of their sales people stole from me and threw manager did nothing!\\n\\nI'm also reporting this store to the BBB.\\n\\nDO NOT GO HERE!     ANGRY     ANGRY\n",
       "286735                                                                                                                                                                                                                                                                                                                                                                                                                                                                                                                                                                                                                                                                                                                                                                                                                                                                                                                                                                                                                                                                                                                                                                                                                                             I was also in the group of four from the below review. The service was beyond absurd. Ordering four drinks in a pub that is moderately busy shouldn't take over half an hour. Our 'waitress' took 15 minutes of that to even come and greet the table. \\n\\nAfter ordering we sat and watched new customers come in and sit at the bar, promptly receiving service and drinks. All the while, our waitress would stand at the bar and drink her own drink, watch the football game or just completely disappear into the back. At first, I thought she was waiting on the bar, but the bartender wasn't busy, as he spent most of his time standing and talking. \\n\\nFinally our drinks came. The whiskey was an issue, plus the cider was flat and tasted horrible. Alas, the waitress was nowhere to be seen for over 10 minutes and by the time she re-appeared, we were ready for our bill and wanted to leave.\\n\\nThe staff here seems to be lacking training and some sort of management. I can't believe a table of four, who would have stayed for more drinks, can't get more than one round in 45 minutes. The entire staff seemed more interested in socializing with each other and watching tv than any kind of service.\\n\\nIf I'm going to spend 8.50 on a beer, I'll be going somewhere that I can at least get more than one, and won't taste like the keg isn't cold and a couple months past it's expiry.     ANGRY     ANGRY\n",
       "102794                                                                                                                                                                                                                                                                                                                                                                                                                                                                                                                                                                                                                                                                                                                                                                                                                                                                                                                                                                                                                                                                                                                                                                                                                                                                                                                                                                                                                                                                                                                                                                                                                                                                                                                                                                                                                                                                                                                                                                                                                                                                                                                                                                                                                                                                   I just came back from here. The drive thru was crazy, of course because of the time (1130). \\n\\nThere was a young employee setting up an umbrella and a sign. He was the ONLY one who was nice, which you would think, in this heat, he would be a little snappy.\\n\\nThe other two employees I greeted, said \\\"hello\\\" to, asked them how they were. No response.\\n\\nUnreal. But my order was right.     ANGRY     ANGRY\n",
       "397789                                                                                                                                                                                                                                                                                                                                                                                                                                                                                                                                                                                                                                                                                                                                                                                                                                                                                                                                                                                                                                                                                                                                                                                                                                                                                                                                                                                                                                                                                                                                                                                                                                                                                                                                                                                                                                                                                                                                                                                                                                                                                                                                                                                                                                                                                 Klassische Pizzeria mit klassischer Speisekarte. Rucasalat mit gehobeltem Parmesan 6 EUR, Spaghetti Aglio Olio 8 EUR. Man kann drau\\u00dfen an der Stra\\u00dfe ganz nett sitzen, drinnen ist's seit mindestens 20 Jahren weitgehend unver\\u00e4ndert und immer noch altmodisch rustikal. Bedienung manchmal etwas knurrig. Pasta leider nicht al dente. Schmeckt aber ganz ordentlich.     ANGRY     ANGRY\n",
       "325919                                                                                                                                                                                                                                                                                                                                                                                                                                                                                                                                                                                                                                                                                                                                                                                                                                                                                                                                                                                                                                                                                                                                                                                                                                                                                                                                                                                                                                                                                                                                                                                                                                                                                                                                                                                                                                                                                                                                                                                                                                                                                                                                                                                                                                                                                                                                                                                     When They scale the seafood with 1/4lb of water with it! Ask for scale again they refuse to do it! Complain to manager, and said that how it is because so cheap!! That's not the right way to do the business! So I give up whole shopping cart n left! ! Not honest to costumer.     ANGRY     ANGRY\n",
       "270055                                                                                                                                                                                                                                                                                                                                                                                                                                                                                                                                                                                                                                                                                                                                                                                                                                                                                                                                                                                                                                                                        This is the worst car rental company ever. Not only is the Las Vegas airport  location crooked but so is the corporate office. I had a prepaid reservation booked months in advance. When I arrived to pick up the car I informed them that the credit card that I used to pay for the reservation had been cancelled due to fraudulent activity and they issued me a new card which I presented to them. I was informed that because I did not have the original card that the reservation is not valid. Even though they had full payment on the rental paid months earlier and the replacement card issued by the credit card company for security they would not honor my reservation.They would however make a new reservation as a \\\"walk up\\\" at double the rate I had already Paid! I told them I was not willing to pay double and they informed me the rate was non negotiable. Duke A. the manager was very rude and said he was going to call security if I did not leave the counter while I was trying to reach the corporate office via my cell phone. I contacted the corporate office and they are as crooked as this location. They are not willing to refund my money that the charged to my credit card (it was paid in full). What kind of company can get away with not honoring your pre-paid reservation and then no give you your money back when you refuse to pay double ! In this day and age with the amount of credit card that goes on this is not an isolated incident.\\nInstead of having a little compassion they try to bend you over and charge you double.     ANGRY     ANGRY\n",
       "371797                                                                                                                                                                                                                                                                                                                                                                                                                                                                                                                                                                                                                                                                                                                                                                                                                                                                                                                                                                                                                                                                                                                                                                                                                                                                                                                                                                                                                                                                                                                                                                                                                                                                                                                                                                                                                                                                                                                                                                                                                                                                                                                                                                                                                                                                                                                                                                                                                                               $20 pedicure...the worst I ever had....the lady was so rough and rushed through the whole thing...instead of relaxing after a long week I was nervous and anxious the whole time. It was so bad I felt like walking out.     ANGRY     ANGRY\n",
       "451575                                                                                                                                                                                                                                                                                                                                                                                                                                                                                                                                                                                                                                                                                                                                                                                                                                                                                                             I'm not mad at this place. I'm disappointed.\\n\\nUpon walking into this nearly dead bar at the peak hour of service on a Friday night, I noticed they had a few solid beers on tap. I proceeded to order a Goose Island 312. The conversation with the bartender went as follows:\\n\\n- \\\"I'll have a 312, please\\\"\\n-- \\\"Miller Lite?\\\"\\n- \\\"No, a 312\\\"\\n-- \\\"What's that?\\\"\\n- \\\"Goose Island 312\\\"\\n-- \\\"???\\\"\\n- \\\"THAT TAP HANDLE WITH THE BIG GOOSE HEAD ON IT\\\"\\n-- \\\"Oh...\\\"\\n\\nThe gentleman with the haircut fit for a Jersey Shore cast member poured the beer, I gave him my $4.50, and went on to a table. The first floor was dead, so we walked to the second. Even more dead, we moved on to the third...also dead. I then began drinking my beer. Flat and skunked. For the first time in my life I had to return a draft beer. I walked back down through the empty levels of the bar and asked for a refund.\\n\\nThe bartender rolled his eyes and went to the back to get his manager to approve the refund. He came back out saying the manager will be out in a second. A few minutes went buy...no manager. These minutes were filled with the bartender texting and not catering to the other few patrons that were there. He again went to the back to fetch the manager, still nothing. He finally opened up the register, took back out my $4.50, and reluctantly placed it on the bar top and delivered an attitude-filled \\\"have a good night\\\". \\n\\nThe only good thing this bar provided was that it's 3rd floor provided a view of a row of cool bars in the distance I didn't know existed. My friend and I made the wise choice of leaving Barney's and giving other establishments our business.\\n\\nIn a nutshell: avoid.     ANGRY     ANGRY\n",
       "479886                                                                                                                                                                                                                                                                                                                                                                                                                                                                                                                                                                                                                                                                                                                                                                                                                                                                                                                                                                                                                                                                                                                                                                                                                                                                                                                                                                                                                                                                                                                                                                                                                                                                                                                                                                                                                                                                                                                                                                                                                                                                                                                                                                                                                                                                                                                                                                                                                                                                                                                                                         This place has TWO Yelp pages.  Be sure to check out the other one that isn't filtering out the bad ratings!!!     ANGRY     ANGRY\n",
       "222902                                                                                                                                                                                                                                                                                                                                                                                                                                                                                                                                                                                                                                                                                                                                                                                                                                                                                                                                                                                                                                                                                                                                                                                                                                                                                                                                                                                                                                                                                                                                                                                                                                                                                                                                                                                                                                                                                                                                                                                                                                                                                                                                                                                                                                                                                                                                                                                                                                                                                                                                                                                                                      Don't use them their pick ups or not ever 15 min.     ANGRY     ANGRY\n",
       "408086                                                                                                                                                                                                                                                                                                                                                                                                                                                                                                                                                                                                                                                                                                                                                                                                                                                                                                                                                                                                                                                                                                                                                                                                                                                                                                                                                                                                                                                                                                                                                                                                                                                                                                                                                                                                                                                                                                                                                                                                                                                                                                                                                                                                                                                                                                                                                                                                                                                                                                     I ordered a cab online the evening before I needed it to get me to the Badger Bus. The cab never showed up. When I called,  the dispatcher was rude and unhelpful.     ANGRY     ANGRY\n",
       "493477                                                                                                                                                                                                                                                                                                                                                                                                                                                                                                                                                                                                                                                                                                                                                                                                                                                                                                                                                                                                                                                                                                                                                                                                                                                                                                                                                                                                                                                                                                                                                                                                                                                                                                                                                                                                                                                                                                                                                                                                                                                                                   I had a water leak in and drip system that was never really use at my families rental.  Epcor's records show that we went from being a family using about 9k gallons of water a month to 35k gallons a month.  Our property has no pool and Epcor says they have no way to detect such discrepancies.  Really!!  As a young family being busy and never paying for a water bill quite like this, it took us a few months to notice.  Know that this company does not care about their customer and their service is extremely poor.  They are not willing to help us out in any way.     ANGRY     ANGRY\n",
       "356467                                                                                                                                                                                                                                                                                                                                                                                                                                                                                                                                                                                                                                                                                                                                                                                                                                                                                                                                                                                                                                                                                                                                                                                                                                                                                                                                                                                                                                                                                                                                                                                                                                                                                                                                                                                                                                                                                                                                                                                                                                                                                                                                                                                                                                                                        The atmosphere was was strained and the techs made no attempt to converse with clients.  There was only one young lady, I think that does the lashes, she was very nice.  My tech was terrible and I had the worst manicure with gel ever.  What a waste of money.  My polish is chipping and I only got them done on Friday. Don't go there, find another place. Very pushy trying to up sell.     ANGRY     ANGRY\n",
       "92700                                                                                                                                                                                                                                                                                                                                                                                                                                                                                                                                                                                                                                                                                                                                                                                                                                                                                                                                                                                                                                                                                                                                                                                                                                                                                                                                                                                                                                                                                                                                                                                                                                                                                                                                    Friday night we went to a business dinner as a part of a party of 6. While the ambiance was FANTASTICALLY AMAZING, the dinner was amazingly disappointing in every other way. Our bill totalled $850 and was paid for on our host's expense account so no personal money was wasted but it still REALLY bothered me how HORRIBLE and DISGRACEFUL both the service and the food were. Appetizers were not served and when we remind our waiter, RIchard, he had the nerve to charge us for the one we still wanted! The food was really inconsistent--our host did not like his cauliflower soup or snapper. Desert orders were taken in bits and pieces JUST TO NAME A FEW OF THE PROBLEMS. It makes no sense how a seemingly fine fine fine restaurant can have such poor service and do nothing in the end for its guests. The whole experience was really mind-bending since the potential was tremendous and the result so poor.     ANGRY     ANGRY\n",
       "180292                                                                                                                                                                                                                                                                                                                                                                                                                                                                                                                                                                                                                                                                                                                                                                                                                                                                                                                                                                                                                                                                                                                                                                                                                                                                                                                                                                                                 We visited Makino's April of 2008 and the horrible experience is still so vivid that I had to write this review....\\n\\nMy hungry family and I were really looking forward to enjoying an Asian/sushi buffet (a nice break from the hotel buffets), but only to be let down.   We arrived at Makino at 8pm.   The hostess gladly led us to a table.    It was now 8:10, after getting my kids washed up before eating and getting them their food, when an announcement on the overhead speakers stated to get all the food you wanted to eat because they were putting the food away in 15 minutes.   It was a mad dash for the food.    They immediately started covering up the various dishes and putting them away.   We really didn't have \\\"time\\\" to get what we wanted.  When we complained to our waitress, she just shrugged her shoulders and the hostess avoided making eye contact with us.  Needless to say, it was a very bad experience.   The hostess should have mentioned this at the start, but I guess since business was slow, they were desperate for the money at the expense of customer satisfaction.   To top it all off, I ended up with a severe case of the SHITS after eating here.   \\n\\nThis is by far the WORST buffet I've been to.     ANGRY     ANGRY\n",
       "459566                                                                                                                                                                                                                                                                                                                                                                                                                                                                                                                                                                                                                                                                                                                                                                                                                                                                                                                                                                                                                                                                                                                                                                                                                                                                                                                                                                                                                                                                                                                                                                                                                                                                                                                                                                                                                                                                                                                                                                                                                                                                                                                                                                                                                                                                                                                                                                                                                                 Walked in at 0900 on a Sunday and got a cut without waiting because of a cancelled appointment. Place is really busy from open to close so I would call ahead and make an appointment. Great haircut with attention to detail for $18.  NEGATIVE  NEGATIVE"
      ]
     },
     "execution_count": 66,
     "metadata": {},
     "output_type": "execute_result"
    }
   ],
   "source": [
    "correct = df[df['actual'] == df['predicted']]\n",
    "correct.head(30)"
   ]
  },
  {
   "cell_type": "code",
   "execution_count": null,
   "id": "8cfdfa6c",
   "metadata": {},
   "outputs": [],
   "source": []
  }
 ],
 "metadata": {
  "kernelspec": {
   "display_name": "Python 3 (ipykernel)",
   "language": "python",
   "name": "python3"
  },
  "language_info": {
   "codemirror_mode": {
    "name": "ipython",
    "version": 3
   },
   "file_extension": ".py",
   "mimetype": "text/x-python",
   "name": "python",
   "nbconvert_exporter": "python",
   "pygments_lexer": "ipython3",
   "version": "3.9.12"
  },
  "vscode": {
   "interpreter": {
    "hash": "530219143d35336307c4e71c62e86952d4af021e0d8cd486539f9a68941d86ce"
   }
  }
 },
 "nbformat": 4,
 "nbformat_minor": 5
}
